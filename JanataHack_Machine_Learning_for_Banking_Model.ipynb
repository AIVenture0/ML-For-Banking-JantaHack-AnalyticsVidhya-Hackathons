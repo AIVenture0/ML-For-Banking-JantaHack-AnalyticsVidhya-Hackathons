{
  "nbformat": 4,
  "nbformat_minor": 0,
  "metadata": {
    "colab": {
      "name": "JanataHack Machine Learning for Banking Model ",
      "provenance": [],
      "toc_visible": true
    },
    "kernelspec": {
      "name": "python3",
      "display_name": "Python 3"
    },
    "accelerator": "GPU"
  },
  "cells": [
    {
      "cell_type": "markdown",
      "metadata": {
        "id": "gNDQr4QynCrk",
        "colab_type": "text"
      },
      "source": [
        "# <center>Machine Learning for Banking</center>\n",
        "_____\n"
      ]
    },
    {
      "cell_type": "code",
      "metadata": {
        "id": "wt1RzjLPOJxL",
        "colab_type": "code",
        "outputId": "3fe6e50e-b6ea-4541-a119-609183610df8",
        "colab": {
          "base_uri": "https://localhost:8080/",
          "height": 122
        }
      },
      "source": [
        "from google.colab import drive\n",
        "drive.mount('/content/drive')"
      ],
      "execution_count": 0,
      "outputs": [
        {
          "output_type": "stream",
          "text": [
            "Go to this URL in a browser: https://accounts.google.com/o/oauth2/auth?client_id=947318989803-6bn6qk8qdgf4n4g3pfee6491hc0brc4i.apps.googleusercontent.com&redirect_uri=urn%3aietf%3awg%3aoauth%3a2.0%3aoob&response_type=code&scope=email%20https%3a%2f%2fwww.googleapis.com%2fauth%2fdocs.test%20https%3a%2f%2fwww.googleapis.com%2fauth%2fdrive%20https%3a%2f%2fwww.googleapis.com%2fauth%2fdrive.photos.readonly%20https%3a%2f%2fwww.googleapis.com%2fauth%2fpeopleapi.readonly\n",
            "\n",
            "Enter your authorization code:\n",
            "··········\n",
            "Mounted at /content/drive\n"
          ],
          "name": "stdout"
        }
      ]
    },
    {
      "cell_type": "markdown",
      "metadata": {
        "id": "L-fe9JX8nJkL",
        "colab_type": "text"
      },
      "source": [
        "<center><img src=\"https://datahack-prod.s3.ap-south-1.amazonaws.com/__sized__/contest_cover/cover_1_OIHLvzm-thumbnail-1200x1200.png\"/></center>"
      ]
    },
    {
      "cell_type": "markdown",
      "metadata": {
        "id": "HxOv6nSfnV0x",
        "colab_type": "text"
      },
      "source": [
        "## Introduction"
      ]
    },
    {
      "cell_type": "markdown",
      "metadata": {
        "id": "jpxp3JQWnVy3",
        "colab_type": "text"
      },
      "source": [
        "- Have you ever wondered how lenders use various factors such as credit score, annual income, the loan amount approved, tenure, debt-to-income ratio etc. and select your __interest rates__? \n",
        "\n",
        "- The process, defined as ‘__risk-based pricing__’, uses a sophisticated algorithm that leverages different determining factors of a loan applicant. \n",
        "\n",
        "Selection of significant factors will help develop a prediction algorithm which can estimate __loan interest rates__ based on --\n",
        "- clients\n",
        "- information\n",
        "\n",
        "On one hand, knowing the factors will help consumers and borrowers to increase their credit worthiness and place themselves in a better position to negotiate for getting a lower interest rate. On the other hand, this will help lending companies to get an immediate fixed interest rate estimation based on clients information. Here, your goal is to use a training dataset to <font color='blue'>__predict the loan rate category (1 / 2 / 3)__</font> that will be assigned to each loan in our test set.\n",
        "\n",
        "You can use any combination of the features in the dataset to make your loan rate category predictions. Some features will be easier to use than others.\n",
        "\n"
      ]
    },
    {
      "cell_type": "markdown",
      "metadata": {
        "id": "ZpaCMHe0nkO6",
        "colab_type": "text"
      },
      "source": [
        "## Evaluation Metric\n",
        "The evaluation metric for this competition is __Weighted F1 Score__."
      ]
    },
    {
      "cell_type": "code",
      "metadata": {
        "id": "g_rg83mxMVlI",
        "colab_type": "code",
        "colab": {}
      },
      "source": [
        "import numpy as np\n",
        "import pandas as pd\n",
        "pd.set_option('display.max_rows', 500)\n",
        "pd.set_option('display.max_columns', 100)\n",
        "\n",
        "from xgboost import XGBClassifier\n",
        "from xgboost import plot_importance\n",
        "\n",
        "# function to plot all features based out of its importance\n",
        "def plot_features(booster, figsize):    \n",
        "    fig, ax = plt.subplots(1,1,figsize=figsize)\n",
        "    return plot_importance(booster=booster, ax=ax)\n",
        "\n",
        "import time\n",
        "\n",
        "from sklearn.model_selection import RandomizedSearchCV\n",
        "\n",
        "%matplotlib inline\n",
        "import matplotlib.pyplot as plt\n"
      ],
      "execution_count": 0,
      "outputs": []
    },
    {
      "cell_type": "code",
      "metadata": {
        "id": "h1l6s4KXNKG8",
        "colab_type": "code",
        "colab": {}
      },
      "source": [
        "train=pd.read_csv('/content/drive/My Drive/AVCompetition /JanataHack: Machine Learning for Banking/train.csv')\n",
        "\n",
        "test=pd.read_csv('/content/drive/My Drive/AVCompetition /JanataHack: Machine Learning for Banking/test.csv')"
      ],
      "execution_count": 0,
      "outputs": []
    },
    {
      "cell_type": "code",
      "metadata": {
        "id": "LBGKH0xLnpUj",
        "colab_type": "code",
        "outputId": "3a594943-f516-4be6-f43b-3c7a3d3b2808",
        "colab": {
          "base_uri": "https://localhost:8080/",
          "height": 51
        }
      },
      "source": [
        "print(train.shape)\n",
        "print(test.shape)"
      ],
      "execution_count": 3,
      "outputs": [
        {
          "output_type": "stream",
          "text": [
            "(164309, 14)\n",
            "(109541, 13)\n"
          ],
          "name": "stdout"
        }
      ]
    },
    {
      "cell_type": "code",
      "metadata": {
        "id": "KKmg4N6OnsU-",
        "colab_type": "code",
        "outputId": "16f1131b-daa7-4f33-c127-564b2cabf7b6",
        "colab": {
          "base_uri": "https://localhost:8080/",
          "height": 292
        }
      },
      "source": [
        "train.head()"
      ],
      "execution_count": 4,
      "outputs": [
        {
          "output_type": "execute_result",
          "data": {
            "text/html": [
              "<div>\n",
              "<style scoped>\n",
              "    .dataframe tbody tr th:only-of-type {\n",
              "        vertical-align: middle;\n",
              "    }\n",
              "\n",
              "    .dataframe tbody tr th {\n",
              "        vertical-align: top;\n",
              "    }\n",
              "\n",
              "    .dataframe thead th {\n",
              "        text-align: right;\n",
              "    }\n",
              "</style>\n",
              "<table border=\"1\" class=\"dataframe\">\n",
              "  <thead>\n",
              "    <tr style=\"text-align: right;\">\n",
              "      <th></th>\n",
              "      <th>Loan_ID</th>\n",
              "      <th>Loan_Amount_Requested</th>\n",
              "      <th>Length_Employed</th>\n",
              "      <th>Home_Owner</th>\n",
              "      <th>Annual_Income</th>\n",
              "      <th>Income_Verified</th>\n",
              "      <th>Purpose_Of_Loan</th>\n",
              "      <th>Debt_To_Income</th>\n",
              "      <th>Inquiries_Last_6Mo</th>\n",
              "      <th>Months_Since_Deliquency</th>\n",
              "      <th>Number_Open_Accounts</th>\n",
              "      <th>Total_Accounts</th>\n",
              "      <th>Gender</th>\n",
              "      <th>Interest_Rate</th>\n",
              "    </tr>\n",
              "  </thead>\n",
              "  <tbody>\n",
              "    <tr>\n",
              "      <th>0</th>\n",
              "      <td>10000001</td>\n",
              "      <td>7,000</td>\n",
              "      <td>&lt; 1 year</td>\n",
              "      <td>Rent</td>\n",
              "      <td>68000.0</td>\n",
              "      <td>not verified</td>\n",
              "      <td>car</td>\n",
              "      <td>18.37</td>\n",
              "      <td>0</td>\n",
              "      <td>NaN</td>\n",
              "      <td>9</td>\n",
              "      <td>14</td>\n",
              "      <td>Female</td>\n",
              "      <td>1</td>\n",
              "    </tr>\n",
              "    <tr>\n",
              "      <th>1</th>\n",
              "      <td>10000002</td>\n",
              "      <td>30,000</td>\n",
              "      <td>4 years</td>\n",
              "      <td>Mortgage</td>\n",
              "      <td>NaN</td>\n",
              "      <td>VERIFIED - income</td>\n",
              "      <td>debt_consolidation</td>\n",
              "      <td>14.93</td>\n",
              "      <td>0</td>\n",
              "      <td>17.0</td>\n",
              "      <td>12</td>\n",
              "      <td>24</td>\n",
              "      <td>Female</td>\n",
              "      <td>3</td>\n",
              "    </tr>\n",
              "    <tr>\n",
              "      <th>2</th>\n",
              "      <td>10000003</td>\n",
              "      <td>24,725</td>\n",
              "      <td>7 years</td>\n",
              "      <td>Mortgage</td>\n",
              "      <td>75566.4</td>\n",
              "      <td>VERIFIED - income source</td>\n",
              "      <td>debt_consolidation</td>\n",
              "      <td>15.88</td>\n",
              "      <td>0</td>\n",
              "      <td>NaN</td>\n",
              "      <td>12</td>\n",
              "      <td>16</td>\n",
              "      <td>Male</td>\n",
              "      <td>3</td>\n",
              "    </tr>\n",
              "    <tr>\n",
              "      <th>3</th>\n",
              "      <td>10000004</td>\n",
              "      <td>16,000</td>\n",
              "      <td>&lt; 1 year</td>\n",
              "      <td>NaN</td>\n",
              "      <td>56160.0</td>\n",
              "      <td>VERIFIED - income source</td>\n",
              "      <td>debt_consolidation</td>\n",
              "      <td>14.34</td>\n",
              "      <td>3</td>\n",
              "      <td>NaN</td>\n",
              "      <td>16</td>\n",
              "      <td>22</td>\n",
              "      <td>Male</td>\n",
              "      <td>3</td>\n",
              "    </tr>\n",
              "    <tr>\n",
              "      <th>4</th>\n",
              "      <td>10000005</td>\n",
              "      <td>17,000</td>\n",
              "      <td>8 years</td>\n",
              "      <td>Own</td>\n",
              "      <td>96000.0</td>\n",
              "      <td>VERIFIED - income source</td>\n",
              "      <td>debt_consolidation</td>\n",
              "      <td>22.17</td>\n",
              "      <td>1</td>\n",
              "      <td>NaN</td>\n",
              "      <td>19</td>\n",
              "      <td>30</td>\n",
              "      <td>Female</td>\n",
              "      <td>1</td>\n",
              "    </tr>\n",
              "  </tbody>\n",
              "</table>\n",
              "</div>"
            ],
            "text/plain": [
              "    Loan_ID Loan_Amount_Requested Length_Employed Home_Owner  Annual_Income  \\\n",
              "0  10000001                 7,000        < 1 year       Rent        68000.0   \n",
              "1  10000002                30,000         4 years   Mortgage            NaN   \n",
              "2  10000003                24,725         7 years   Mortgage        75566.4   \n",
              "3  10000004                16,000        < 1 year        NaN        56160.0   \n",
              "4  10000005                17,000         8 years        Own        96000.0   \n",
              "\n",
              "            Income_Verified     Purpose_Of_Loan  Debt_To_Income  \\\n",
              "0              not verified                 car           18.37   \n",
              "1         VERIFIED - income  debt_consolidation           14.93   \n",
              "2  VERIFIED - income source  debt_consolidation           15.88   \n",
              "3  VERIFIED - income source  debt_consolidation           14.34   \n",
              "4  VERIFIED - income source  debt_consolidation           22.17   \n",
              "\n",
              "   Inquiries_Last_6Mo  Months_Since_Deliquency  Number_Open_Accounts  \\\n",
              "0                   0                      NaN                     9   \n",
              "1                   0                     17.0                    12   \n",
              "2                   0                      NaN                    12   \n",
              "3                   3                      NaN                    16   \n",
              "4                   1                      NaN                    19   \n",
              "\n",
              "   Total_Accounts  Gender  Interest_Rate  \n",
              "0              14  Female              1  \n",
              "1              24  Female              3  \n",
              "2              16    Male              3  \n",
              "3              22    Male              3  \n",
              "4              30  Female              1  "
            ]
          },
          "metadata": {
            "tags": []
          },
          "execution_count": 4
        }
      ]
    },
    {
      "cell_type": "markdown",
      "metadata": {
        "id": "RqXwwEe0nySb",
        "colab_type": "text"
      },
      "source": [
        "## Description of the Dataset"
      ]
    },
    {
      "cell_type": "markdown",
      "metadata": {
        "id": "eFoaoTOVox5u",
        "colab_type": "text"
      },
      "source": [
        ""
      ]
    },
    {
      "cell_type": "code",
      "metadata": {
        "id": "JjVx4Vt8nudj",
        "colab_type": "code",
        "outputId": "d9a8b425-ee0c-457e-d531-ecd9e7a5e4db",
        "colab": {
          "base_uri": "https://localhost:8080/",
          "height": 272
        }
      },
      "source": [
        "train.isnull().sum()"
      ],
      "execution_count": 5,
      "outputs": [
        {
          "output_type": "execute_result",
          "data": {
            "text/plain": [
              "Loan_ID                        0\n",
              "Loan_Amount_Requested          0\n",
              "Length_Employed             7371\n",
              "Home_Owner                 25349\n",
              "Annual_Income              25102\n",
              "Income_Verified                0\n",
              "Purpose_Of_Loan                0\n",
              "Debt_To_Income                 0\n",
              "Inquiries_Last_6Mo             0\n",
              "Months_Since_Deliquency    88379\n",
              "Number_Open_Accounts           0\n",
              "Total_Accounts                 0\n",
              "Gender                         0\n",
              "Interest_Rate                  0\n",
              "dtype: int64"
            ]
          },
          "metadata": {
            "tags": []
          },
          "execution_count": 5
        }
      ]
    },
    {
      "cell_type": "code",
      "metadata": {
        "id": "j-xBmtm8oy-y",
        "colab_type": "code",
        "outputId": "202cd0a3-5a1f-4845-c348-24444c86114c",
        "colab": {
          "base_uri": "https://localhost:8080/",
          "height": 275
        }
      },
      "source": [
        "test.head()"
      ],
      "execution_count": 6,
      "outputs": [
        {
          "output_type": "execute_result",
          "data": {
            "text/html": [
              "<div>\n",
              "<style scoped>\n",
              "    .dataframe tbody tr th:only-of-type {\n",
              "        vertical-align: middle;\n",
              "    }\n",
              "\n",
              "    .dataframe tbody tr th {\n",
              "        vertical-align: top;\n",
              "    }\n",
              "\n",
              "    .dataframe thead th {\n",
              "        text-align: right;\n",
              "    }\n",
              "</style>\n",
              "<table border=\"1\" class=\"dataframe\">\n",
              "  <thead>\n",
              "    <tr style=\"text-align: right;\">\n",
              "      <th></th>\n",
              "      <th>Loan_ID</th>\n",
              "      <th>Loan_Amount_Requested</th>\n",
              "      <th>Length_Employed</th>\n",
              "      <th>Home_Owner</th>\n",
              "      <th>Annual_Income</th>\n",
              "      <th>Income_Verified</th>\n",
              "      <th>Purpose_Of_Loan</th>\n",
              "      <th>Debt_To_Income</th>\n",
              "      <th>Inquiries_Last_6Mo</th>\n",
              "      <th>Months_Since_Deliquency</th>\n",
              "      <th>Number_Open_Accounts</th>\n",
              "      <th>Total_Accounts</th>\n",
              "      <th>Gender</th>\n",
              "    </tr>\n",
              "  </thead>\n",
              "  <tbody>\n",
              "    <tr>\n",
              "      <th>0</th>\n",
              "      <td>10164310</td>\n",
              "      <td>27,500</td>\n",
              "      <td>10+ years</td>\n",
              "      <td>Mortgage</td>\n",
              "      <td>129000.0</td>\n",
              "      <td>VERIFIED - income</td>\n",
              "      <td>debt_consolidation</td>\n",
              "      <td>12.87</td>\n",
              "      <td>0</td>\n",
              "      <td>68.0</td>\n",
              "      <td>10</td>\n",
              "      <td>37</td>\n",
              "      <td>Male</td>\n",
              "    </tr>\n",
              "    <tr>\n",
              "      <th>1</th>\n",
              "      <td>10164311</td>\n",
              "      <td>26,000</td>\n",
              "      <td>10+ years</td>\n",
              "      <td>NaN</td>\n",
              "      <td>110000.0</td>\n",
              "      <td>not verified</td>\n",
              "      <td>credit_card</td>\n",
              "      <td>11.37</td>\n",
              "      <td>0</td>\n",
              "      <td>NaN</td>\n",
              "      <td>6</td>\n",
              "      <td>23</td>\n",
              "      <td>Male</td>\n",
              "    </tr>\n",
              "    <tr>\n",
              "      <th>2</th>\n",
              "      <td>10164312</td>\n",
              "      <td>6,075</td>\n",
              "      <td>&lt; 1 year</td>\n",
              "      <td>Rent</td>\n",
              "      <td>75000.0</td>\n",
              "      <td>VERIFIED - income</td>\n",
              "      <td>debt_consolidation</td>\n",
              "      <td>6.83</td>\n",
              "      <td>2</td>\n",
              "      <td>NaN</td>\n",
              "      <td>5</td>\n",
              "      <td>20</td>\n",
              "      <td>Male</td>\n",
              "    </tr>\n",
              "    <tr>\n",
              "      <th>3</th>\n",
              "      <td>10164313</td>\n",
              "      <td>12,000</td>\n",
              "      <td>10+ years</td>\n",
              "      <td>Mortgage</td>\n",
              "      <td>73000.0</td>\n",
              "      <td>VERIFIED - income source</td>\n",
              "      <td>debt_consolidation</td>\n",
              "      <td>7.76</td>\n",
              "      <td>0</td>\n",
              "      <td>NaN</td>\n",
              "      <td>6</td>\n",
              "      <td>8</td>\n",
              "      <td>Male</td>\n",
              "    </tr>\n",
              "    <tr>\n",
              "      <th>4</th>\n",
              "      <td>10164314</td>\n",
              "      <td>35,000</td>\n",
              "      <td>&lt; 1 year</td>\n",
              "      <td>Mortgage</td>\n",
              "      <td>156000.0</td>\n",
              "      <td>not verified</td>\n",
              "      <td>debt_consolidation</td>\n",
              "      <td>9.62</td>\n",
              "      <td>0</td>\n",
              "      <td>26.0</td>\n",
              "      <td>9</td>\n",
              "      <td>21</td>\n",
              "      <td>Male</td>\n",
              "    </tr>\n",
              "  </tbody>\n",
              "</table>\n",
              "</div>"
            ],
            "text/plain": [
              "    Loan_ID Loan_Amount_Requested Length_Employed Home_Owner  Annual_Income  \\\n",
              "0  10164310                27,500       10+ years   Mortgage       129000.0   \n",
              "1  10164311                26,000       10+ years        NaN       110000.0   \n",
              "2  10164312                 6,075        < 1 year       Rent        75000.0   \n",
              "3  10164313                12,000       10+ years   Mortgage        73000.0   \n",
              "4  10164314                35,000        < 1 year   Mortgage       156000.0   \n",
              "\n",
              "            Income_Verified     Purpose_Of_Loan  Debt_To_Income  \\\n",
              "0         VERIFIED - income  debt_consolidation           12.87   \n",
              "1              not verified         credit_card           11.37   \n",
              "2         VERIFIED - income  debt_consolidation            6.83   \n",
              "3  VERIFIED - income source  debt_consolidation            7.76   \n",
              "4              not verified  debt_consolidation            9.62   \n",
              "\n",
              "   Inquiries_Last_6Mo  Months_Since_Deliquency  Number_Open_Accounts  \\\n",
              "0                   0                     68.0                    10   \n",
              "1                   0                      NaN                     6   \n",
              "2                   2                      NaN                     5   \n",
              "3                   0                      NaN                     6   \n",
              "4                   0                     26.0                     9   \n",
              "\n",
              "   Total_Accounts Gender  \n",
              "0              37   Male  \n",
              "1              23   Male  \n",
              "2              20   Male  \n",
              "3               8   Male  \n",
              "4              21   Male  "
            ]
          },
          "metadata": {
            "tags": []
          },
          "execution_count": 6
        }
      ]
    },
    {
      "cell_type": "code",
      "metadata": {
        "id": "ued6raHpo079",
        "colab_type": "code",
        "colab": {}
      },
      "source": [
        "test_id=test['Loan_ID']"
      ],
      "execution_count": 0,
      "outputs": []
    },
    {
      "cell_type": "code",
      "metadata": {
        "id": "_LVGYlSro5ra",
        "colab_type": "code",
        "colab": {}
      },
      "source": [
        "# combine both train and test data frames\n",
        "data=train.append(test)"
      ],
      "execution_count": 0,
      "outputs": []
    },
    {
      "cell_type": "code",
      "metadata": {
        "id": "kPk4t2Z6o7YW",
        "colab_type": "code",
        "outputId": "5d16add3-a88c-4d37-c168-60350e1ab9f2",
        "colab": {
          "base_uri": "https://localhost:8080/",
          "height": 309
        }
      },
      "source": [
        "print(data.shape)\n",
        "data.head()"
      ],
      "execution_count": 9,
      "outputs": [
        {
          "output_type": "stream",
          "text": [
            "(273850, 14)\n"
          ],
          "name": "stdout"
        },
        {
          "output_type": "execute_result",
          "data": {
            "text/html": [
              "<div>\n",
              "<style scoped>\n",
              "    .dataframe tbody tr th:only-of-type {\n",
              "        vertical-align: middle;\n",
              "    }\n",
              "\n",
              "    .dataframe tbody tr th {\n",
              "        vertical-align: top;\n",
              "    }\n",
              "\n",
              "    .dataframe thead th {\n",
              "        text-align: right;\n",
              "    }\n",
              "</style>\n",
              "<table border=\"1\" class=\"dataframe\">\n",
              "  <thead>\n",
              "    <tr style=\"text-align: right;\">\n",
              "      <th></th>\n",
              "      <th>Loan_ID</th>\n",
              "      <th>Loan_Amount_Requested</th>\n",
              "      <th>Length_Employed</th>\n",
              "      <th>Home_Owner</th>\n",
              "      <th>Annual_Income</th>\n",
              "      <th>Income_Verified</th>\n",
              "      <th>Purpose_Of_Loan</th>\n",
              "      <th>Debt_To_Income</th>\n",
              "      <th>Inquiries_Last_6Mo</th>\n",
              "      <th>Months_Since_Deliquency</th>\n",
              "      <th>Number_Open_Accounts</th>\n",
              "      <th>Total_Accounts</th>\n",
              "      <th>Gender</th>\n",
              "      <th>Interest_Rate</th>\n",
              "    </tr>\n",
              "  </thead>\n",
              "  <tbody>\n",
              "    <tr>\n",
              "      <th>0</th>\n",
              "      <td>10000001</td>\n",
              "      <td>7,000</td>\n",
              "      <td>&lt; 1 year</td>\n",
              "      <td>Rent</td>\n",
              "      <td>68000.0</td>\n",
              "      <td>not verified</td>\n",
              "      <td>car</td>\n",
              "      <td>18.37</td>\n",
              "      <td>0</td>\n",
              "      <td>NaN</td>\n",
              "      <td>9</td>\n",
              "      <td>14</td>\n",
              "      <td>Female</td>\n",
              "      <td>1.0</td>\n",
              "    </tr>\n",
              "    <tr>\n",
              "      <th>1</th>\n",
              "      <td>10000002</td>\n",
              "      <td>30,000</td>\n",
              "      <td>4 years</td>\n",
              "      <td>Mortgage</td>\n",
              "      <td>NaN</td>\n",
              "      <td>VERIFIED - income</td>\n",
              "      <td>debt_consolidation</td>\n",
              "      <td>14.93</td>\n",
              "      <td>0</td>\n",
              "      <td>17.0</td>\n",
              "      <td>12</td>\n",
              "      <td>24</td>\n",
              "      <td>Female</td>\n",
              "      <td>3.0</td>\n",
              "    </tr>\n",
              "    <tr>\n",
              "      <th>2</th>\n",
              "      <td>10000003</td>\n",
              "      <td>24,725</td>\n",
              "      <td>7 years</td>\n",
              "      <td>Mortgage</td>\n",
              "      <td>75566.4</td>\n",
              "      <td>VERIFIED - income source</td>\n",
              "      <td>debt_consolidation</td>\n",
              "      <td>15.88</td>\n",
              "      <td>0</td>\n",
              "      <td>NaN</td>\n",
              "      <td>12</td>\n",
              "      <td>16</td>\n",
              "      <td>Male</td>\n",
              "      <td>3.0</td>\n",
              "    </tr>\n",
              "    <tr>\n",
              "      <th>3</th>\n",
              "      <td>10000004</td>\n",
              "      <td>16,000</td>\n",
              "      <td>&lt; 1 year</td>\n",
              "      <td>NaN</td>\n",
              "      <td>56160.0</td>\n",
              "      <td>VERIFIED - income source</td>\n",
              "      <td>debt_consolidation</td>\n",
              "      <td>14.34</td>\n",
              "      <td>3</td>\n",
              "      <td>NaN</td>\n",
              "      <td>16</td>\n",
              "      <td>22</td>\n",
              "      <td>Male</td>\n",
              "      <td>3.0</td>\n",
              "    </tr>\n",
              "    <tr>\n",
              "      <th>4</th>\n",
              "      <td>10000005</td>\n",
              "      <td>17,000</td>\n",
              "      <td>8 years</td>\n",
              "      <td>Own</td>\n",
              "      <td>96000.0</td>\n",
              "      <td>VERIFIED - income source</td>\n",
              "      <td>debt_consolidation</td>\n",
              "      <td>22.17</td>\n",
              "      <td>1</td>\n",
              "      <td>NaN</td>\n",
              "      <td>19</td>\n",
              "      <td>30</td>\n",
              "      <td>Female</td>\n",
              "      <td>1.0</td>\n",
              "    </tr>\n",
              "  </tbody>\n",
              "</table>\n",
              "</div>"
            ],
            "text/plain": [
              "    Loan_ID Loan_Amount_Requested Length_Employed Home_Owner  Annual_Income  \\\n",
              "0  10000001                 7,000        < 1 year       Rent        68000.0   \n",
              "1  10000002                30,000         4 years   Mortgage            NaN   \n",
              "2  10000003                24,725         7 years   Mortgage        75566.4   \n",
              "3  10000004                16,000        < 1 year        NaN        56160.0   \n",
              "4  10000005                17,000         8 years        Own        96000.0   \n",
              "\n",
              "            Income_Verified     Purpose_Of_Loan  Debt_To_Income  \\\n",
              "0              not verified                 car           18.37   \n",
              "1         VERIFIED - income  debt_consolidation           14.93   \n",
              "2  VERIFIED - income source  debt_consolidation           15.88   \n",
              "3  VERIFIED - income source  debt_consolidation           14.34   \n",
              "4  VERIFIED - income source  debt_consolidation           22.17   \n",
              "\n",
              "   Inquiries_Last_6Mo  Months_Since_Deliquency  Number_Open_Accounts  \\\n",
              "0                   0                      NaN                     9   \n",
              "1                   0                     17.0                    12   \n",
              "2                   0                      NaN                    12   \n",
              "3                   3                      NaN                    16   \n",
              "4                   1                      NaN                    19   \n",
              "\n",
              "   Total_Accounts  Gender  Interest_Rate  \n",
              "0              14  Female            1.0  \n",
              "1              24  Female            3.0  \n",
              "2              16    Male            3.0  \n",
              "3              22    Male            3.0  \n",
              "4              30  Female            1.0  "
            ]
          },
          "metadata": {
            "tags": []
          },
          "execution_count": 9
        }
      ]
    },
    {
      "cell_type": "code",
      "metadata": {
        "id": "3A1J9mBno-Ej",
        "colab_type": "code",
        "outputId": "1653585c-f1f7-4aac-b891-79403b5e1857",
        "colab": {
          "base_uri": "https://localhost:8080/",
          "height": 374
        }
      },
      "source": [
        "train.info()"
      ],
      "execution_count": 10,
      "outputs": [
        {
          "output_type": "stream",
          "text": [
            "<class 'pandas.core.frame.DataFrame'>\n",
            "RangeIndex: 164309 entries, 0 to 164308\n",
            "Data columns (total 14 columns):\n",
            " #   Column                   Non-Null Count   Dtype  \n",
            "---  ------                   --------------   -----  \n",
            " 0   Loan_ID                  164309 non-null  int64  \n",
            " 1   Loan_Amount_Requested    164309 non-null  object \n",
            " 2   Length_Employed          156938 non-null  object \n",
            " 3   Home_Owner               138960 non-null  object \n",
            " 4   Annual_Income            139207 non-null  float64\n",
            " 5   Income_Verified          164309 non-null  object \n",
            " 6   Purpose_Of_Loan          164309 non-null  object \n",
            " 7   Debt_To_Income           164309 non-null  float64\n",
            " 8   Inquiries_Last_6Mo       164309 non-null  int64  \n",
            " 9   Months_Since_Deliquency  75930 non-null   float64\n",
            " 10  Number_Open_Accounts     164309 non-null  int64  \n",
            " 11  Total_Accounts           164309 non-null  int64  \n",
            " 12  Gender                   164309 non-null  object \n",
            " 13  Interest_Rate            164309 non-null  int64  \n",
            "dtypes: float64(3), int64(5), object(6)\n",
            "memory usage: 17.6+ MB\n"
          ],
          "name": "stdout"
        }
      ]
    },
    {
      "cell_type": "code",
      "metadata": {
        "id": "wMgWJi-apBG1",
        "colab_type": "code",
        "outputId": "69596993-1a27-4f73-be10-f87e31ac6fc3",
        "colab": {
          "base_uri": "https://localhost:8080/",
          "height": 317
        }
      },
      "source": [
        "train.describe()"
      ],
      "execution_count": 11,
      "outputs": [
        {
          "output_type": "execute_result",
          "data": {
            "text/html": [
              "<div>\n",
              "<style scoped>\n",
              "    .dataframe tbody tr th:only-of-type {\n",
              "        vertical-align: middle;\n",
              "    }\n",
              "\n",
              "    .dataframe tbody tr th {\n",
              "        vertical-align: top;\n",
              "    }\n",
              "\n",
              "    .dataframe thead th {\n",
              "        text-align: right;\n",
              "    }\n",
              "</style>\n",
              "<table border=\"1\" class=\"dataframe\">\n",
              "  <thead>\n",
              "    <tr style=\"text-align: right;\">\n",
              "      <th></th>\n",
              "      <th>Loan_ID</th>\n",
              "      <th>Annual_Income</th>\n",
              "      <th>Debt_To_Income</th>\n",
              "      <th>Inquiries_Last_6Mo</th>\n",
              "      <th>Months_Since_Deliquency</th>\n",
              "      <th>Number_Open_Accounts</th>\n",
              "      <th>Total_Accounts</th>\n",
              "      <th>Interest_Rate</th>\n",
              "    </tr>\n",
              "  </thead>\n",
              "  <tbody>\n",
              "    <tr>\n",
              "      <th>count</th>\n",
              "      <td>1.643090e+05</td>\n",
              "      <td>1.392070e+05</td>\n",
              "      <td>164309.000000</td>\n",
              "      <td>164309.000000</td>\n",
              "      <td>75930.000000</td>\n",
              "      <td>164309.000000</td>\n",
              "      <td>164309.000000</td>\n",
              "      <td>164309.000000</td>\n",
              "    </tr>\n",
              "    <tr>\n",
              "      <th>mean</th>\n",
              "      <td>1.008216e+07</td>\n",
              "      <td>7.333116e+04</td>\n",
              "      <td>17.207189</td>\n",
              "      <td>0.781698</td>\n",
              "      <td>34.229356</td>\n",
              "      <td>11.193818</td>\n",
              "      <td>25.067665</td>\n",
              "      <td>2.158951</td>\n",
              "    </tr>\n",
              "    <tr>\n",
              "      <th>std</th>\n",
              "      <td>4.743207e+04</td>\n",
              "      <td>6.037750e+04</td>\n",
              "      <td>7.845083</td>\n",
              "      <td>1.034747</td>\n",
              "      <td>21.761180</td>\n",
              "      <td>4.991813</td>\n",
              "      <td>11.583067</td>\n",
              "      <td>0.738364</td>\n",
              "    </tr>\n",
              "    <tr>\n",
              "      <th>min</th>\n",
              "      <td>1.000000e+07</td>\n",
              "      <td>4.000000e+03</td>\n",
              "      <td>0.000000</td>\n",
              "      <td>0.000000</td>\n",
              "      <td>0.000000</td>\n",
              "      <td>0.000000</td>\n",
              "      <td>2.000000</td>\n",
              "      <td>1.000000</td>\n",
              "    </tr>\n",
              "    <tr>\n",
              "      <th>25%</th>\n",
              "      <td>1.004108e+07</td>\n",
              "      <td>4.500000e+04</td>\n",
              "      <td>11.370000</td>\n",
              "      <td>0.000000</td>\n",
              "      <td>16.000000</td>\n",
              "      <td>8.000000</td>\n",
              "      <td>17.000000</td>\n",
              "      <td>2.000000</td>\n",
              "    </tr>\n",
              "    <tr>\n",
              "      <th>50%</th>\n",
              "      <td>1.008216e+07</td>\n",
              "      <td>6.300000e+04</td>\n",
              "      <td>16.840000</td>\n",
              "      <td>0.000000</td>\n",
              "      <td>31.000000</td>\n",
              "      <td>10.000000</td>\n",
              "      <td>23.000000</td>\n",
              "      <td>2.000000</td>\n",
              "    </tr>\n",
              "    <tr>\n",
              "      <th>75%</th>\n",
              "      <td>1.012323e+07</td>\n",
              "      <td>8.869750e+04</td>\n",
              "      <td>22.780000</td>\n",
              "      <td>1.000000</td>\n",
              "      <td>50.000000</td>\n",
              "      <td>14.000000</td>\n",
              "      <td>32.000000</td>\n",
              "      <td>3.000000</td>\n",
              "    </tr>\n",
              "    <tr>\n",
              "      <th>max</th>\n",
              "      <td>1.016431e+07</td>\n",
              "      <td>7.500000e+06</td>\n",
              "      <td>39.990000</td>\n",
              "      <td>8.000000</td>\n",
              "      <td>180.000000</td>\n",
              "      <td>76.000000</td>\n",
              "      <td>156.000000</td>\n",
              "      <td>3.000000</td>\n",
              "    </tr>\n",
              "  </tbody>\n",
              "</table>\n",
              "</div>"
            ],
            "text/plain": [
              "            Loan_ID  Annual_Income  Debt_To_Income  Inquiries_Last_6Mo  \\\n",
              "count  1.643090e+05   1.392070e+05   164309.000000       164309.000000   \n",
              "mean   1.008216e+07   7.333116e+04       17.207189            0.781698   \n",
              "std    4.743207e+04   6.037750e+04        7.845083            1.034747   \n",
              "min    1.000000e+07   4.000000e+03        0.000000            0.000000   \n",
              "25%    1.004108e+07   4.500000e+04       11.370000            0.000000   \n",
              "50%    1.008216e+07   6.300000e+04       16.840000            0.000000   \n",
              "75%    1.012323e+07   8.869750e+04       22.780000            1.000000   \n",
              "max    1.016431e+07   7.500000e+06       39.990000            8.000000   \n",
              "\n",
              "       Months_Since_Deliquency  Number_Open_Accounts  Total_Accounts  \\\n",
              "count             75930.000000         164309.000000   164309.000000   \n",
              "mean                 34.229356             11.193818       25.067665   \n",
              "std                  21.761180              4.991813       11.583067   \n",
              "min                   0.000000              0.000000        2.000000   \n",
              "25%                  16.000000              8.000000       17.000000   \n",
              "50%                  31.000000             10.000000       23.000000   \n",
              "75%                  50.000000             14.000000       32.000000   \n",
              "max                 180.000000             76.000000      156.000000   \n",
              "\n",
              "       Interest_Rate  \n",
              "count  164309.000000  \n",
              "mean        2.158951  \n",
              "std         0.738364  \n",
              "min         1.000000  \n",
              "25%         2.000000  \n",
              "50%         2.000000  \n",
              "75%         3.000000  \n",
              "max         3.000000  "
            ]
          },
          "metadata": {
            "tags": []
          },
          "execution_count": 11
        }
      ]
    },
    {
      "cell_type": "markdown",
      "metadata": {
        "id": "HuOUMPYBpF0m",
        "colab_type": "text"
      },
      "source": [
        "## Data Preprocessing"
      ]
    },
    {
      "cell_type": "code",
      "metadata": {
        "id": "AZm1v1NEpDSt",
        "colab_type": "code",
        "colab": {}
      },
      "source": [
        "data=data.drop('Loan_ID',axis=1)"
      ],
      "execution_count": 0,
      "outputs": []
    },
    {
      "cell_type": "code",
      "metadata": {
        "id": "yq1M8PjVpIC0",
        "colab_type": "code",
        "outputId": "07b9f6c7-e3a3-4be9-b8c1-10534fdcfccc",
        "colab": {
          "base_uri": "https://localhost:8080/",
          "height": 255
        }
      },
      "source": [
        "data.isnull().sum()"
      ],
      "execution_count": 13,
      "outputs": [
        {
          "output_type": "execute_result",
          "data": {
            "text/plain": [
              "Loan_Amount_Requested           0\n",
              "Length_Employed             12307\n",
              "Home_Owner                  42060\n",
              "Annual_Income               42000\n",
              "Income_Verified                 0\n",
              "Purpose_Of_Loan                 0\n",
              "Debt_To_Income                  0\n",
              "Inquiries_Last_6Mo              0\n",
              "Months_Since_Deliquency    147238\n",
              "Number_Open_Accounts            0\n",
              "Total_Accounts                  0\n",
              "Gender                          0\n",
              "Interest_Rate              109541\n",
              "dtype: int64"
            ]
          },
          "metadata": {
            "tags": []
          },
          "execution_count": 13
        }
      ]
    },
    {
      "cell_type": "markdown",
      "metadata": {
        "id": "h272npnspNqz",
        "colab_type": "text"
      },
      "source": [
        "Since most of the columns in the dataset have **missing values** and contain data with textual values in them, they can't be used for **Statistical Analysis** and **Data Visualization** without performing **Data Preprocessing** on them. <br>"
      ]
    },
    {
      "cell_type": "code",
      "metadata": {
        "id": "VapnUrB3pKQh",
        "colab_type": "code",
        "outputId": "39f3d363-4873-43fa-f9e9-a7cfd490a4f6",
        "colab": {
          "base_uri": "https://localhost:8080/",
          "height": 196
        }
      },
      "source": [
        "data.head(3)"
      ],
      "execution_count": 14,
      "outputs": [
        {
          "output_type": "execute_result",
          "data": {
            "text/html": [
              "<div>\n",
              "<style scoped>\n",
              "    .dataframe tbody tr th:only-of-type {\n",
              "        vertical-align: middle;\n",
              "    }\n",
              "\n",
              "    .dataframe tbody tr th {\n",
              "        vertical-align: top;\n",
              "    }\n",
              "\n",
              "    .dataframe thead th {\n",
              "        text-align: right;\n",
              "    }\n",
              "</style>\n",
              "<table border=\"1\" class=\"dataframe\">\n",
              "  <thead>\n",
              "    <tr style=\"text-align: right;\">\n",
              "      <th></th>\n",
              "      <th>Loan_Amount_Requested</th>\n",
              "      <th>Length_Employed</th>\n",
              "      <th>Home_Owner</th>\n",
              "      <th>Annual_Income</th>\n",
              "      <th>Income_Verified</th>\n",
              "      <th>Purpose_Of_Loan</th>\n",
              "      <th>Debt_To_Income</th>\n",
              "      <th>Inquiries_Last_6Mo</th>\n",
              "      <th>Months_Since_Deliquency</th>\n",
              "      <th>Number_Open_Accounts</th>\n",
              "      <th>Total_Accounts</th>\n",
              "      <th>Gender</th>\n",
              "      <th>Interest_Rate</th>\n",
              "    </tr>\n",
              "  </thead>\n",
              "  <tbody>\n",
              "    <tr>\n",
              "      <th>0</th>\n",
              "      <td>7,000</td>\n",
              "      <td>&lt; 1 year</td>\n",
              "      <td>Rent</td>\n",
              "      <td>68000.0</td>\n",
              "      <td>not verified</td>\n",
              "      <td>car</td>\n",
              "      <td>18.37</td>\n",
              "      <td>0</td>\n",
              "      <td>NaN</td>\n",
              "      <td>9</td>\n",
              "      <td>14</td>\n",
              "      <td>Female</td>\n",
              "      <td>1.0</td>\n",
              "    </tr>\n",
              "    <tr>\n",
              "      <th>1</th>\n",
              "      <td>30,000</td>\n",
              "      <td>4 years</td>\n",
              "      <td>Mortgage</td>\n",
              "      <td>NaN</td>\n",
              "      <td>VERIFIED - income</td>\n",
              "      <td>debt_consolidation</td>\n",
              "      <td>14.93</td>\n",
              "      <td>0</td>\n",
              "      <td>17.0</td>\n",
              "      <td>12</td>\n",
              "      <td>24</td>\n",
              "      <td>Female</td>\n",
              "      <td>3.0</td>\n",
              "    </tr>\n",
              "    <tr>\n",
              "      <th>2</th>\n",
              "      <td>24,725</td>\n",
              "      <td>7 years</td>\n",
              "      <td>Mortgage</td>\n",
              "      <td>75566.4</td>\n",
              "      <td>VERIFIED - income source</td>\n",
              "      <td>debt_consolidation</td>\n",
              "      <td>15.88</td>\n",
              "      <td>0</td>\n",
              "      <td>NaN</td>\n",
              "      <td>12</td>\n",
              "      <td>16</td>\n",
              "      <td>Male</td>\n",
              "      <td>3.0</td>\n",
              "    </tr>\n",
              "  </tbody>\n",
              "</table>\n",
              "</div>"
            ],
            "text/plain": [
              "  Loan_Amount_Requested Length_Employed Home_Owner  Annual_Income  \\\n",
              "0                 7,000        < 1 year       Rent        68000.0   \n",
              "1                30,000         4 years   Mortgage            NaN   \n",
              "2                24,725         7 years   Mortgage        75566.4   \n",
              "\n",
              "            Income_Verified     Purpose_Of_Loan  Debt_To_Income  \\\n",
              "0              not verified                 car           18.37   \n",
              "1         VERIFIED - income  debt_consolidation           14.93   \n",
              "2  VERIFIED - income source  debt_consolidation           15.88   \n",
              "\n",
              "   Inquiries_Last_6Mo  Months_Since_Deliquency  Number_Open_Accounts  \\\n",
              "0                   0                      NaN                     9   \n",
              "1                   0                     17.0                    12   \n",
              "2                   0                      NaN                    12   \n",
              "\n",
              "   Total_Accounts  Gender  Interest_Rate  \n",
              "0              14  Female            1.0  \n",
              "1              24  Female            3.0  \n",
              "2              16    Male            3.0  "
            ]
          },
          "metadata": {
            "tags": []
          },
          "execution_count": 14
        }
      ]
    },
    {
      "cell_type": "code",
      "metadata": {
        "id": "U7vs_HG-pQK5",
        "colab_type": "code",
        "outputId": "6f692485-a846-4c16-9cd8-6820764242f1",
        "colab": {
          "base_uri": "https://localhost:8080/",
          "height": 255
        }
      },
      "source": [
        "data.dtypes"
      ],
      "execution_count": 15,
      "outputs": [
        {
          "output_type": "execute_result",
          "data": {
            "text/plain": [
              "Loan_Amount_Requested       object\n",
              "Length_Employed             object\n",
              "Home_Owner                  object\n",
              "Annual_Income              float64\n",
              "Income_Verified             object\n",
              "Purpose_Of_Loan             object\n",
              "Debt_To_Income             float64\n",
              "Inquiries_Last_6Mo           int64\n",
              "Months_Since_Deliquency    float64\n",
              "Number_Open_Accounts         int64\n",
              "Total_Accounts               int64\n",
              "Gender                      object\n",
              "Interest_Rate              float64\n",
              "dtype: object"
            ]
          },
          "metadata": {
            "tags": []
          },
          "execution_count": 15
        }
      ]
    },
    {
      "cell_type": "markdown",
      "metadata": {
        "id": "2IoNHF-epUMJ",
        "colab_type": "text"
      },
      "source": [
        "### Loan_Amount_Requested"
      ]
    },
    {
      "cell_type": "code",
      "metadata": {
        "id": "BD1ZE1nCpR2Q",
        "colab_type": "code",
        "outputId": "b0b4c9b9-fb72-4062-a1e1-fecd980ef58f",
        "colab": {
          "base_uri": "https://localhost:8080/",
          "height": 34
        }
      },
      "source": [
        "data['Loan_Amount_Requested'].dtype"
      ],
      "execution_count": 16,
      "outputs": [
        {
          "output_type": "execute_result",
          "data": {
            "text/plain": [
              "dtype('O')"
            ]
          },
          "metadata": {
            "tags": []
          },
          "execution_count": 16
        }
      ]
    },
    {
      "cell_type": "code",
      "metadata": {
        "id": "QbhxOCo1pWH7",
        "colab_type": "code",
        "colab": {}
      },
      "source": [
        "data['Loan_Amount_Requested']=data['Loan_Amount_Requested'].str.replace(',','').astype(float)"
      ],
      "execution_count": 0,
      "outputs": []
    },
    {
      "cell_type": "code",
      "metadata": {
        "id": "gBJoDKtWpY0c",
        "colab_type": "code",
        "outputId": "2c3af9cd-cb8c-455b-ff98-7a1830918888",
        "colab": {
          "base_uri": "https://localhost:8080/",
          "height": 34
        }
      },
      "source": [
        "data['Loan_Amount_Requested'].dtype"
      ],
      "execution_count": 18,
      "outputs": [
        {
          "output_type": "execute_result",
          "data": {
            "text/plain": [
              "dtype('float64')"
            ]
          },
          "metadata": {
            "tags": []
          },
          "execution_count": 18
        }
      ]
    },
    {
      "cell_type": "markdown",
      "metadata": {
        "id": "VyMEfYx6pfmU",
        "colab_type": "text"
      },
      "source": [
        "### Length_Employed "
      ]
    },
    {
      "cell_type": "code",
      "metadata": {
        "id": "wzqJQZTQpczy",
        "colab_type": "code",
        "outputId": "51d89bbf-0723-4c20-bebb-033a6fdede8d",
        "colab": {
          "base_uri": "https://localhost:8080/",
          "height": 238
        }
      },
      "source": [
        "# Treating Lenth_employed feature\n",
        "\n",
        "# Checking Employment.Length column\n",
        "\n",
        "data['Length_Employed'].value_counts(dropna=False)"
      ],
      "execution_count": 19,
      "outputs": [
        {
          "output_type": "execute_result",
          "data": {
            "text/plain": [
              "10+ years    88328\n",
              "2 years      24420\n",
              "3 years      21478\n",
              "< 1 year     21133\n",
              "5 years      18042\n",
              "1 year       17336\n",
              "4 years      16393\n",
              "7 years      15444\n",
              "6 years      15351\n",
              "8 years      13115\n",
              "NaN          12307\n",
              "9 years      10503\n",
              "Name: Length_Employed, dtype: int64"
            ]
          },
          "metadata": {
            "tags": []
          },
          "execution_count": 19
        }
      ]
    },
    {
      "cell_type": "code",
      "metadata": {
        "id": "RjaxcbBrpjH_",
        "colab_type": "code",
        "colab": {}
      },
      "source": [
        "# Removing 'year' and 'years' from Employment.Length.\n",
        "\n",
        "data['Length_Employed'] = data['Length_Employed'].astype('str')\n",
        "data['Length_Employed'] = data['Length_Employed'].str.replace(' years', '').str.replace(' year', '')"
      ],
      "execution_count": 0,
      "outputs": []
    },
    {
      "cell_type": "code",
      "metadata": {
        "id": "7lsrZkF4plWJ",
        "colab_type": "code",
        "outputId": "6467aa0d-7358-41b7-bc91-e9c7d46d787b",
        "colab": {
          "base_uri": "https://localhost:8080/",
          "height": 255
        }
      },
      "source": [
        "# train['Length_Employed']\n",
        "\n",
        "round(data.groupby('Length_Employed')['Interest_Rate'].mean(), 2)"
      ],
      "execution_count": 21,
      "outputs": [
        {
          "output_type": "execute_result",
          "data": {
            "text/plain": [
              "Length_Employed\n",
              "1      2.12\n",
              "10+    2.18\n",
              "2      2.14\n",
              "3      2.13\n",
              "4      2.14\n",
              "5      2.16\n",
              "6      2.17\n",
              "7      2.19\n",
              "8      2.16\n",
              "9      2.19\n",
              "< 1    2.11\n",
              "nan    2.19\n",
              "Name: Interest_Rate, dtype: float64"
            ]
          },
          "metadata": {
            "tags": []
          },
          "execution_count": 21
        }
      ]
    },
    {
      "cell_type": "markdown",
      "metadata": {
        "id": "gp4dNIG5qI23",
        "colab_type": "text"
      },
      "source": [
        "- As you can see **NA's** has an **Interest.Rate** similar to **9**."
      ]
    },
    {
      "cell_type": "code",
      "metadata": {
        "id": "Weq62G4Rpn7w",
        "colab_type": "code",
        "colab": {}
      },
      "source": [
        "data['Length_Employed'] = data['Length_Employed'].str.replace('< 1', '0').str.replace('+', '').str.replace('nan', '9')"
      ],
      "execution_count": 0,
      "outputs": []
    },
    {
      "cell_type": "markdown",
      "metadata": {
        "id": "D_k1j8isqPDx",
        "colab_type": "text"
      },
      "source": [
        "### Annual_Income"
      ]
    },
    {
      "cell_type": "code",
      "metadata": {
        "id": "ClSYumxWqL8_",
        "colab_type": "code",
        "colab": {}
      },
      "source": [
        "# fill annual_income with the median value\n",
        "data['Annual_Income']=data['Annual_Income'].fillna(data['Annual_Income'].median())"
      ],
      "execution_count": 0,
      "outputs": []
    },
    {
      "cell_type": "markdown",
      "metadata": {
        "id": "AFOjPlwjqU_A",
        "colab_type": "text"
      },
      "source": [
        "### Home_Owner"
      ]
    },
    {
      "cell_type": "code",
      "metadata": {
        "id": "KVVHHzmxqSIN",
        "colab_type": "code",
        "outputId": "f4afb9ac-b308-4d3b-8af5-2a8f7b5a0d85",
        "colab": {
          "base_uri": "https://localhost:8080/",
          "height": 119
        }
      },
      "source": [
        "data['Home_Owner'].value_counts()"
      ],
      "execution_count": 24,
      "outputs": [
        {
          "output_type": "execute_result",
          "data": {
            "text/plain": [
              "Mortgage    117270\n",
              "Rent         93542\n",
              "Own          20879\n",
              "Other           79\n",
              "None            20\n",
              "Name: Home_Owner, dtype: int64"
            ]
          },
          "metadata": {
            "tags": []
          },
          "execution_count": 24
        }
      ]
    },
    {
      "cell_type": "code",
      "metadata": {
        "id": "pjUCwhmtqW_e",
        "colab_type": "code",
        "colab": {}
      },
      "source": [
        "data['Home_Owner']=data['Home_Owner'].fillna('Mortgage')"
      ],
      "execution_count": 0,
      "outputs": []
    },
    {
      "cell_type": "code",
      "metadata": {
        "id": "EAQGYF93qZY_",
        "colab_type": "code",
        "outputId": "2a76dcda-afac-4cf7-80d5-4f6e63d3e1be",
        "colab": {
          "base_uri": "https://localhost:8080/",
          "height": 51
        }
      },
      "source": [
        "# data=data.drop('Months_Since_Deliquency',axis=1)\n",
        "\n",
        "print(data['Months_Since_Deliquency'].mean())\n",
        "\n",
        "print(data['Months_Since_Deliquency'].median())\n"
      ],
      "execution_count": 26,
      "outputs": [
        {
          "output_type": "stream",
          "text": [
            "34.10339462294253\n",
            "31.0\n"
          ],
          "name": "stdout"
        }
      ]
    },
    {
      "cell_type": "code",
      "metadata": {
        "id": "41x7GfiyPKp1",
        "colab_type": "code",
        "colab": {}
      },
      "source": [
        "data['Months_Since_Deliquency']=data['Months_Since_Deliquency'].fillna(data['Months_Since_Deliquency'].median())"
      ],
      "execution_count": 0,
      "outputs": []
    },
    {
      "cell_type": "code",
      "metadata": {
        "id": "Goe2pf3-PbmL",
        "colab_type": "code",
        "colab": {}
      },
      "source": [
        "# # data['Months_Since_Deliquency'].plot(kind='hist')\n",
        "# n=np.log1p(data['Months_Since_Deliquency'])\n",
        "# n.plot(kind='hist')"
      ],
      "execution_count": 0,
      "outputs": []
    },
    {
      "cell_type": "markdown",
      "metadata": {
        "id": "9RkHq7cRqiPA",
        "colab_type": "text"
      },
      "source": [
        "### Treating categorical variables."
      ]
    },
    {
      "cell_type": "code",
      "metadata": {
        "id": "p2xtBqdOqfny",
        "colab_type": "code",
        "outputId": "7777f85b-57f6-4311-b25b-f46576fa8ac9",
        "colab": {
          "base_uri": "https://localhost:8080/",
          "height": 255
        }
      },
      "source": [
        "data.dtypes"
      ],
      "execution_count": 29,
      "outputs": [
        {
          "output_type": "execute_result",
          "data": {
            "text/plain": [
              "Loan_Amount_Requested      float64\n",
              "Length_Employed             object\n",
              "Home_Owner                  object\n",
              "Annual_Income              float64\n",
              "Income_Verified             object\n",
              "Purpose_Of_Loan             object\n",
              "Debt_To_Income             float64\n",
              "Inquiries_Last_6Mo           int64\n",
              "Months_Since_Deliquency    float64\n",
              "Number_Open_Accounts         int64\n",
              "Total_Accounts               int64\n",
              "Gender                      object\n",
              "Interest_Rate              float64\n",
              "dtype: object"
            ]
          },
          "metadata": {
            "tags": []
          },
          "execution_count": 29
        }
      ]
    },
    {
      "cell_type": "code",
      "metadata": {
        "id": "SxDTM_-sqlGk",
        "colab_type": "code",
        "outputId": "440fac1c-dc44-4315-d28d-2c02697f1cf7",
        "colab": {
          "base_uri": "https://localhost:8080/",
          "height": 272
        }
      },
      "source": [
        "data['Purpose_Of_Loan'].value_counts()"
      ],
      "execution_count": 30,
      "outputs": [
        {
          "output_type": "execute_result",
          "data": {
            "text/plain": [
              "debt_consolidation    161403\n",
              "credit_card            61394\n",
              "home_improvement       15455\n",
              "other                  13846\n",
              "major_purchase          5712\n",
              "small_business          4064\n",
              "car                     3149\n",
              "medical                 2633\n",
              "moving                  1675\n",
              "vacation                1453\n",
              "wedding                 1345\n",
              "house                   1316\n",
              "renewable_energy         206\n",
              "educational              199\n",
              "Name: Purpose_Of_Loan, dtype: int64"
            ]
          },
          "metadata": {
            "tags": []
          },
          "execution_count": 30
        }
      ]
    },
    {
      "cell_type": "code",
      "metadata": {
        "id": "7M-pwutpqnIr",
        "colab_type": "code",
        "colab": {}
      },
      "source": [
        "# Treat the skewed feature i.e ['Total_Accounts','Number_Open_Accounts'] \n",
        "\n",
        "\n",
        "# data['Debt_To_Income'].plot(kind='hist')\n",
        "# n=np.log1p(data['Number_Open_Accounts'])\n",
        "# n.plot(kind='hist')\n",
        "\n",
        "\n",
        "# p=np.log1p(data['Total_Accounts'])\n",
        "# p.plot(kind='hist')"
      ],
      "execution_count": 0,
      "outputs": []
    },
    {
      "cell_type": "code",
      "metadata": {
        "id": "xthyRfEoqqzr",
        "colab_type": "code",
        "colab": {}
      },
      "source": [
        "# Treat skewness\n",
        "data['Number_Open_Accounts']=np.log1p(data['Number_Open_Accounts'])\n",
        "\n",
        "data['Total_Accounts']=np.log1p(data['Total_Accounts'])"
      ],
      "execution_count": 0,
      "outputs": []
    },
    {
      "cell_type": "code",
      "metadata": {
        "id": "TdhhiOPoqskO",
        "colab_type": "code",
        "outputId": "20b32c44-e9e2-4d92-d8eb-9cab498f5501",
        "colab": {
          "base_uri": "https://localhost:8080/",
          "height": 292
        }
      },
      "source": [
        "data.head()"
      ],
      "execution_count": 33,
      "outputs": [
        {
          "output_type": "execute_result",
          "data": {
            "text/html": [
              "<div>\n",
              "<style scoped>\n",
              "    .dataframe tbody tr th:only-of-type {\n",
              "        vertical-align: middle;\n",
              "    }\n",
              "\n",
              "    .dataframe tbody tr th {\n",
              "        vertical-align: top;\n",
              "    }\n",
              "\n",
              "    .dataframe thead th {\n",
              "        text-align: right;\n",
              "    }\n",
              "</style>\n",
              "<table border=\"1\" class=\"dataframe\">\n",
              "  <thead>\n",
              "    <tr style=\"text-align: right;\">\n",
              "      <th></th>\n",
              "      <th>Loan_Amount_Requested</th>\n",
              "      <th>Length_Employed</th>\n",
              "      <th>Home_Owner</th>\n",
              "      <th>Annual_Income</th>\n",
              "      <th>Income_Verified</th>\n",
              "      <th>Purpose_Of_Loan</th>\n",
              "      <th>Debt_To_Income</th>\n",
              "      <th>Inquiries_Last_6Mo</th>\n",
              "      <th>Months_Since_Deliquency</th>\n",
              "      <th>Number_Open_Accounts</th>\n",
              "      <th>Total_Accounts</th>\n",
              "      <th>Gender</th>\n",
              "      <th>Interest_Rate</th>\n",
              "    </tr>\n",
              "  </thead>\n",
              "  <tbody>\n",
              "    <tr>\n",
              "      <th>0</th>\n",
              "      <td>7000.0</td>\n",
              "      <td>0</td>\n",
              "      <td>Rent</td>\n",
              "      <td>68000.0</td>\n",
              "      <td>not verified</td>\n",
              "      <td>car</td>\n",
              "      <td>18.37</td>\n",
              "      <td>0</td>\n",
              "      <td>31.0</td>\n",
              "      <td>2.302585</td>\n",
              "      <td>2.708050</td>\n",
              "      <td>Female</td>\n",
              "      <td>1.0</td>\n",
              "    </tr>\n",
              "    <tr>\n",
              "      <th>1</th>\n",
              "      <td>30000.0</td>\n",
              "      <td>4</td>\n",
              "      <td>Mortgage</td>\n",
              "      <td>63000.0</td>\n",
              "      <td>VERIFIED - income</td>\n",
              "      <td>debt_consolidation</td>\n",
              "      <td>14.93</td>\n",
              "      <td>0</td>\n",
              "      <td>17.0</td>\n",
              "      <td>2.564949</td>\n",
              "      <td>3.218876</td>\n",
              "      <td>Female</td>\n",
              "      <td>3.0</td>\n",
              "    </tr>\n",
              "    <tr>\n",
              "      <th>2</th>\n",
              "      <td>24725.0</td>\n",
              "      <td>7</td>\n",
              "      <td>Mortgage</td>\n",
              "      <td>75566.4</td>\n",
              "      <td>VERIFIED - income source</td>\n",
              "      <td>debt_consolidation</td>\n",
              "      <td>15.88</td>\n",
              "      <td>0</td>\n",
              "      <td>31.0</td>\n",
              "      <td>2.564949</td>\n",
              "      <td>2.833213</td>\n",
              "      <td>Male</td>\n",
              "      <td>3.0</td>\n",
              "    </tr>\n",
              "    <tr>\n",
              "      <th>3</th>\n",
              "      <td>16000.0</td>\n",
              "      <td>0</td>\n",
              "      <td>Mortgage</td>\n",
              "      <td>56160.0</td>\n",
              "      <td>VERIFIED - income source</td>\n",
              "      <td>debt_consolidation</td>\n",
              "      <td>14.34</td>\n",
              "      <td>3</td>\n",
              "      <td>31.0</td>\n",
              "      <td>2.833213</td>\n",
              "      <td>3.135494</td>\n",
              "      <td>Male</td>\n",
              "      <td>3.0</td>\n",
              "    </tr>\n",
              "    <tr>\n",
              "      <th>4</th>\n",
              "      <td>17000.0</td>\n",
              "      <td>8</td>\n",
              "      <td>Own</td>\n",
              "      <td>96000.0</td>\n",
              "      <td>VERIFIED - income source</td>\n",
              "      <td>debt_consolidation</td>\n",
              "      <td>22.17</td>\n",
              "      <td>1</td>\n",
              "      <td>31.0</td>\n",
              "      <td>2.995732</td>\n",
              "      <td>3.433987</td>\n",
              "      <td>Female</td>\n",
              "      <td>1.0</td>\n",
              "    </tr>\n",
              "  </tbody>\n",
              "</table>\n",
              "</div>"
            ],
            "text/plain": [
              "   Loan_Amount_Requested Length_Employed Home_Owner  Annual_Income  \\\n",
              "0                 7000.0               0       Rent        68000.0   \n",
              "1                30000.0               4   Mortgage        63000.0   \n",
              "2                24725.0               7   Mortgage        75566.4   \n",
              "3                16000.0               0   Mortgage        56160.0   \n",
              "4                17000.0               8        Own        96000.0   \n",
              "\n",
              "            Income_Verified     Purpose_Of_Loan  Debt_To_Income  \\\n",
              "0              not verified                 car           18.37   \n",
              "1         VERIFIED - income  debt_consolidation           14.93   \n",
              "2  VERIFIED - income source  debt_consolidation           15.88   \n",
              "3  VERIFIED - income source  debt_consolidation           14.34   \n",
              "4  VERIFIED - income source  debt_consolidation           22.17   \n",
              "\n",
              "   Inquiries_Last_6Mo  Months_Since_Deliquency  Number_Open_Accounts  \\\n",
              "0                   0                     31.0              2.302585   \n",
              "1                   0                     17.0              2.564949   \n",
              "2                   0                     31.0              2.564949   \n",
              "3                   3                     31.0              2.833213   \n",
              "4                   1                     31.0              2.995732   \n",
              "\n",
              "   Total_Accounts  Gender  Interest_Rate  \n",
              "0        2.708050  Female            1.0  \n",
              "1        3.218876  Female            3.0  \n",
              "2        2.833213    Male            3.0  \n",
              "3        3.135494    Male            3.0  \n",
              "4        3.433987  Female            1.0  "
            ]
          },
          "metadata": {
            "tags": []
          },
          "execution_count": 33
        }
      ]
    },
    {
      "cell_type": "code",
      "metadata": {
        "id": "0HIbUnbqquSc",
        "colab_type": "code",
        "colab": {}
      },
      "source": [
        "data['Length_Employed']=data['Length_Employed'].astype(int)"
      ],
      "execution_count": 0,
      "outputs": []
    },
    {
      "cell_type": "code",
      "metadata": {
        "id": "kOg4cNzZsJKa",
        "colab_type": "code",
        "outputId": "747d0298-86d6-48fe-8a71-a76ccd73a967",
        "colab": {
          "base_uri": "https://localhost:8080/",
          "height": 255
        }
      },
      "source": [
        "data.dtypes"
      ],
      "execution_count": 35,
      "outputs": [
        {
          "output_type": "execute_result",
          "data": {
            "text/plain": [
              "Loan_Amount_Requested      float64\n",
              "Length_Employed              int64\n",
              "Home_Owner                  object\n",
              "Annual_Income              float64\n",
              "Income_Verified             object\n",
              "Purpose_Of_Loan             object\n",
              "Debt_To_Income             float64\n",
              "Inquiries_Last_6Mo           int64\n",
              "Months_Since_Deliquency    float64\n",
              "Number_Open_Accounts       float64\n",
              "Total_Accounts             float64\n",
              "Gender                      object\n",
              "Interest_Rate              float64\n",
              "dtype: object"
            ]
          },
          "metadata": {
            "tags": []
          },
          "execution_count": 35
        }
      ]
    },
    {
      "cell_type": "code",
      "metadata": {
        "id": "EuPHimIGq8fl",
        "colab_type": "code",
        "colab": {}
      },
      "source": [
        "# Converting to categorical variable.\n",
        "\n",
        "col=['Gender','Home_Owner','Income_Verified','Length_Employed','Purpose_Of_Loan','Inquiries_Last_6Mo']\n",
        "\n",
        "for c in col:\n",
        "    data = pd.get_dummies(data, columns=[c])"
      ],
      "execution_count": 0,
      "outputs": []
    },
    {
      "cell_type": "code",
      "metadata": {
        "id": "3hZqV-eZrK30",
        "colab_type": "code",
        "outputId": "cf72582f-1f82-405e-f9ad-fedf9805ef00",
        "colab": {
          "base_uri": "https://localhost:8080/",
          "height": 241
        }
      },
      "source": [
        "data.head()"
      ],
      "execution_count": 37,
      "outputs": [
        {
          "output_type": "execute_result",
          "data": {
            "text/html": [
              "<div>\n",
              "<style scoped>\n",
              "    .dataframe tbody tr th:only-of-type {\n",
              "        vertical-align: middle;\n",
              "    }\n",
              "\n",
              "    .dataframe tbody tr th {\n",
              "        vertical-align: top;\n",
              "    }\n",
              "\n",
              "    .dataframe thead th {\n",
              "        text-align: right;\n",
              "    }\n",
              "</style>\n",
              "<table border=\"1\" class=\"dataframe\">\n",
              "  <thead>\n",
              "    <tr style=\"text-align: right;\">\n",
              "      <th></th>\n",
              "      <th>Loan_Amount_Requested</th>\n",
              "      <th>Annual_Income</th>\n",
              "      <th>Debt_To_Income</th>\n",
              "      <th>Months_Since_Deliquency</th>\n",
              "      <th>Number_Open_Accounts</th>\n",
              "      <th>Total_Accounts</th>\n",
              "      <th>Interest_Rate</th>\n",
              "      <th>Gender_Female</th>\n",
              "      <th>Gender_Male</th>\n",
              "      <th>Home_Owner_Mortgage</th>\n",
              "      <th>Home_Owner_None</th>\n",
              "      <th>Home_Owner_Other</th>\n",
              "      <th>Home_Owner_Own</th>\n",
              "      <th>Home_Owner_Rent</th>\n",
              "      <th>Income_Verified_VERIFIED - income</th>\n",
              "      <th>Income_Verified_VERIFIED - income source</th>\n",
              "      <th>Income_Verified_not verified</th>\n",
              "      <th>Length_Employed_0</th>\n",
              "      <th>Length_Employed_1</th>\n",
              "      <th>Length_Employed_2</th>\n",
              "      <th>Length_Employed_3</th>\n",
              "      <th>Length_Employed_4</th>\n",
              "      <th>Length_Employed_5</th>\n",
              "      <th>Length_Employed_6</th>\n",
              "      <th>Length_Employed_7</th>\n",
              "      <th>Length_Employed_8</th>\n",
              "      <th>Length_Employed_9</th>\n",
              "      <th>Length_Employed_10</th>\n",
              "      <th>Purpose_Of_Loan_car</th>\n",
              "      <th>Purpose_Of_Loan_credit_card</th>\n",
              "      <th>Purpose_Of_Loan_debt_consolidation</th>\n",
              "      <th>Purpose_Of_Loan_educational</th>\n",
              "      <th>Purpose_Of_Loan_home_improvement</th>\n",
              "      <th>Purpose_Of_Loan_house</th>\n",
              "      <th>Purpose_Of_Loan_major_purchase</th>\n",
              "      <th>Purpose_Of_Loan_medical</th>\n",
              "      <th>Purpose_Of_Loan_moving</th>\n",
              "      <th>Purpose_Of_Loan_other</th>\n",
              "      <th>Purpose_Of_Loan_renewable_energy</th>\n",
              "      <th>Purpose_Of_Loan_small_business</th>\n",
              "      <th>Purpose_Of_Loan_vacation</th>\n",
              "      <th>Purpose_Of_Loan_wedding</th>\n",
              "      <th>Inquiries_Last_6Mo_0</th>\n",
              "      <th>Inquiries_Last_6Mo_1</th>\n",
              "      <th>Inquiries_Last_6Mo_2</th>\n",
              "      <th>Inquiries_Last_6Mo_3</th>\n",
              "      <th>Inquiries_Last_6Mo_4</th>\n",
              "      <th>Inquiries_Last_6Mo_5</th>\n",
              "      <th>Inquiries_Last_6Mo_6</th>\n",
              "      <th>Inquiries_Last_6Mo_7</th>\n",
              "      <th>Inquiries_Last_6Mo_8</th>\n",
              "    </tr>\n",
              "  </thead>\n",
              "  <tbody>\n",
              "    <tr>\n",
              "      <th>0</th>\n",
              "      <td>7000.0</td>\n",
              "      <td>68000.0</td>\n",
              "      <td>18.37</td>\n",
              "      <td>31.0</td>\n",
              "      <td>2.302585</td>\n",
              "      <td>2.708050</td>\n",
              "      <td>1.0</td>\n",
              "      <td>1</td>\n",
              "      <td>0</td>\n",
              "      <td>0</td>\n",
              "      <td>0</td>\n",
              "      <td>0</td>\n",
              "      <td>0</td>\n",
              "      <td>1</td>\n",
              "      <td>0</td>\n",
              "      <td>0</td>\n",
              "      <td>1</td>\n",
              "      <td>1</td>\n",
              "      <td>0</td>\n",
              "      <td>0</td>\n",
              "      <td>0</td>\n",
              "      <td>0</td>\n",
              "      <td>0</td>\n",
              "      <td>0</td>\n",
              "      <td>0</td>\n",
              "      <td>0</td>\n",
              "      <td>0</td>\n",
              "      <td>0</td>\n",
              "      <td>1</td>\n",
              "      <td>0</td>\n",
              "      <td>0</td>\n",
              "      <td>0</td>\n",
              "      <td>0</td>\n",
              "      <td>0</td>\n",
              "      <td>0</td>\n",
              "      <td>0</td>\n",
              "      <td>0</td>\n",
              "      <td>0</td>\n",
              "      <td>0</td>\n",
              "      <td>0</td>\n",
              "      <td>0</td>\n",
              "      <td>0</td>\n",
              "      <td>1</td>\n",
              "      <td>0</td>\n",
              "      <td>0</td>\n",
              "      <td>0</td>\n",
              "      <td>0</td>\n",
              "      <td>0</td>\n",
              "      <td>0</td>\n",
              "      <td>0</td>\n",
              "      <td>0</td>\n",
              "    </tr>\n",
              "    <tr>\n",
              "      <th>1</th>\n",
              "      <td>30000.0</td>\n",
              "      <td>63000.0</td>\n",
              "      <td>14.93</td>\n",
              "      <td>17.0</td>\n",
              "      <td>2.564949</td>\n",
              "      <td>3.218876</td>\n",
              "      <td>3.0</td>\n",
              "      <td>1</td>\n",
              "      <td>0</td>\n",
              "      <td>1</td>\n",
              "      <td>0</td>\n",
              "      <td>0</td>\n",
              "      <td>0</td>\n",
              "      <td>0</td>\n",
              "      <td>1</td>\n",
              "      <td>0</td>\n",
              "      <td>0</td>\n",
              "      <td>0</td>\n",
              "      <td>0</td>\n",
              "      <td>0</td>\n",
              "      <td>0</td>\n",
              "      <td>1</td>\n",
              "      <td>0</td>\n",
              "      <td>0</td>\n",
              "      <td>0</td>\n",
              "      <td>0</td>\n",
              "      <td>0</td>\n",
              "      <td>0</td>\n",
              "      <td>0</td>\n",
              "      <td>0</td>\n",
              "      <td>1</td>\n",
              "      <td>0</td>\n",
              "      <td>0</td>\n",
              "      <td>0</td>\n",
              "      <td>0</td>\n",
              "      <td>0</td>\n",
              "      <td>0</td>\n",
              "      <td>0</td>\n",
              "      <td>0</td>\n",
              "      <td>0</td>\n",
              "      <td>0</td>\n",
              "      <td>0</td>\n",
              "      <td>1</td>\n",
              "      <td>0</td>\n",
              "      <td>0</td>\n",
              "      <td>0</td>\n",
              "      <td>0</td>\n",
              "      <td>0</td>\n",
              "      <td>0</td>\n",
              "      <td>0</td>\n",
              "      <td>0</td>\n",
              "    </tr>\n",
              "    <tr>\n",
              "      <th>2</th>\n",
              "      <td>24725.0</td>\n",
              "      <td>75566.4</td>\n",
              "      <td>15.88</td>\n",
              "      <td>31.0</td>\n",
              "      <td>2.564949</td>\n",
              "      <td>2.833213</td>\n",
              "      <td>3.0</td>\n",
              "      <td>0</td>\n",
              "      <td>1</td>\n",
              "      <td>1</td>\n",
              "      <td>0</td>\n",
              "      <td>0</td>\n",
              "      <td>0</td>\n",
              "      <td>0</td>\n",
              "      <td>0</td>\n",
              "      <td>1</td>\n",
              "      <td>0</td>\n",
              "      <td>0</td>\n",
              "      <td>0</td>\n",
              "      <td>0</td>\n",
              "      <td>0</td>\n",
              "      <td>0</td>\n",
              "      <td>0</td>\n",
              "      <td>0</td>\n",
              "      <td>1</td>\n",
              "      <td>0</td>\n",
              "      <td>0</td>\n",
              "      <td>0</td>\n",
              "      <td>0</td>\n",
              "      <td>0</td>\n",
              "      <td>1</td>\n",
              "      <td>0</td>\n",
              "      <td>0</td>\n",
              "      <td>0</td>\n",
              "      <td>0</td>\n",
              "      <td>0</td>\n",
              "      <td>0</td>\n",
              "      <td>0</td>\n",
              "      <td>0</td>\n",
              "      <td>0</td>\n",
              "      <td>0</td>\n",
              "      <td>0</td>\n",
              "      <td>1</td>\n",
              "      <td>0</td>\n",
              "      <td>0</td>\n",
              "      <td>0</td>\n",
              "      <td>0</td>\n",
              "      <td>0</td>\n",
              "      <td>0</td>\n",
              "      <td>0</td>\n",
              "      <td>0</td>\n",
              "    </tr>\n",
              "    <tr>\n",
              "      <th>3</th>\n",
              "      <td>16000.0</td>\n",
              "      <td>56160.0</td>\n",
              "      <td>14.34</td>\n",
              "      <td>31.0</td>\n",
              "      <td>2.833213</td>\n",
              "      <td>3.135494</td>\n",
              "      <td>3.0</td>\n",
              "      <td>0</td>\n",
              "      <td>1</td>\n",
              "      <td>1</td>\n",
              "      <td>0</td>\n",
              "      <td>0</td>\n",
              "      <td>0</td>\n",
              "      <td>0</td>\n",
              "      <td>0</td>\n",
              "      <td>1</td>\n",
              "      <td>0</td>\n",
              "      <td>1</td>\n",
              "      <td>0</td>\n",
              "      <td>0</td>\n",
              "      <td>0</td>\n",
              "      <td>0</td>\n",
              "      <td>0</td>\n",
              "      <td>0</td>\n",
              "      <td>0</td>\n",
              "      <td>0</td>\n",
              "      <td>0</td>\n",
              "      <td>0</td>\n",
              "      <td>0</td>\n",
              "      <td>0</td>\n",
              "      <td>1</td>\n",
              "      <td>0</td>\n",
              "      <td>0</td>\n",
              "      <td>0</td>\n",
              "      <td>0</td>\n",
              "      <td>0</td>\n",
              "      <td>0</td>\n",
              "      <td>0</td>\n",
              "      <td>0</td>\n",
              "      <td>0</td>\n",
              "      <td>0</td>\n",
              "      <td>0</td>\n",
              "      <td>0</td>\n",
              "      <td>0</td>\n",
              "      <td>0</td>\n",
              "      <td>1</td>\n",
              "      <td>0</td>\n",
              "      <td>0</td>\n",
              "      <td>0</td>\n",
              "      <td>0</td>\n",
              "      <td>0</td>\n",
              "    </tr>\n",
              "    <tr>\n",
              "      <th>4</th>\n",
              "      <td>17000.0</td>\n",
              "      <td>96000.0</td>\n",
              "      <td>22.17</td>\n",
              "      <td>31.0</td>\n",
              "      <td>2.995732</td>\n",
              "      <td>3.433987</td>\n",
              "      <td>1.0</td>\n",
              "      <td>1</td>\n",
              "      <td>0</td>\n",
              "      <td>0</td>\n",
              "      <td>0</td>\n",
              "      <td>0</td>\n",
              "      <td>1</td>\n",
              "      <td>0</td>\n",
              "      <td>0</td>\n",
              "      <td>1</td>\n",
              "      <td>0</td>\n",
              "      <td>0</td>\n",
              "      <td>0</td>\n",
              "      <td>0</td>\n",
              "      <td>0</td>\n",
              "      <td>0</td>\n",
              "      <td>0</td>\n",
              "      <td>0</td>\n",
              "      <td>0</td>\n",
              "      <td>1</td>\n",
              "      <td>0</td>\n",
              "      <td>0</td>\n",
              "      <td>0</td>\n",
              "      <td>0</td>\n",
              "      <td>1</td>\n",
              "      <td>0</td>\n",
              "      <td>0</td>\n",
              "      <td>0</td>\n",
              "      <td>0</td>\n",
              "      <td>0</td>\n",
              "      <td>0</td>\n",
              "      <td>0</td>\n",
              "      <td>0</td>\n",
              "      <td>0</td>\n",
              "      <td>0</td>\n",
              "      <td>0</td>\n",
              "      <td>0</td>\n",
              "      <td>1</td>\n",
              "      <td>0</td>\n",
              "      <td>0</td>\n",
              "      <td>0</td>\n",
              "      <td>0</td>\n",
              "      <td>0</td>\n",
              "      <td>0</td>\n",
              "      <td>0</td>\n",
              "    </tr>\n",
              "  </tbody>\n",
              "</table>\n",
              "</div>"
            ],
            "text/plain": [
              "   Loan_Amount_Requested  Annual_Income  Debt_To_Income  \\\n",
              "0                 7000.0        68000.0           18.37   \n",
              "1                30000.0        63000.0           14.93   \n",
              "2                24725.0        75566.4           15.88   \n",
              "3                16000.0        56160.0           14.34   \n",
              "4                17000.0        96000.0           22.17   \n",
              "\n",
              "   Months_Since_Deliquency  Number_Open_Accounts  Total_Accounts  \\\n",
              "0                     31.0              2.302585        2.708050   \n",
              "1                     17.0              2.564949        3.218876   \n",
              "2                     31.0              2.564949        2.833213   \n",
              "3                     31.0              2.833213        3.135494   \n",
              "4                     31.0              2.995732        3.433987   \n",
              "\n",
              "   Interest_Rate  Gender_Female  Gender_Male  Home_Owner_Mortgage  \\\n",
              "0            1.0              1            0                    0   \n",
              "1            3.0              1            0                    1   \n",
              "2            3.0              0            1                    1   \n",
              "3            3.0              0            1                    1   \n",
              "4            1.0              1            0                    0   \n",
              "\n",
              "   Home_Owner_None  Home_Owner_Other  Home_Owner_Own  Home_Owner_Rent  \\\n",
              "0                0                 0               0                1   \n",
              "1                0                 0               0                0   \n",
              "2                0                 0               0                0   \n",
              "3                0                 0               0                0   \n",
              "4                0                 0               1                0   \n",
              "\n",
              "   Income_Verified_VERIFIED - income  \\\n",
              "0                                  0   \n",
              "1                                  1   \n",
              "2                                  0   \n",
              "3                                  0   \n",
              "4                                  0   \n",
              "\n",
              "   Income_Verified_VERIFIED - income source  Income_Verified_not verified  \\\n",
              "0                                         0                             1   \n",
              "1                                         0                             0   \n",
              "2                                         1                             0   \n",
              "3                                         1                             0   \n",
              "4                                         1                             0   \n",
              "\n",
              "   Length_Employed_0  Length_Employed_1  Length_Employed_2  Length_Employed_3  \\\n",
              "0                  1                  0                  0                  0   \n",
              "1                  0                  0                  0                  0   \n",
              "2                  0                  0                  0                  0   \n",
              "3                  1                  0                  0                  0   \n",
              "4                  0                  0                  0                  0   \n",
              "\n",
              "   Length_Employed_4  Length_Employed_5  Length_Employed_6  Length_Employed_7  \\\n",
              "0                  0                  0                  0                  0   \n",
              "1                  1                  0                  0                  0   \n",
              "2                  0                  0                  0                  1   \n",
              "3                  0                  0                  0                  0   \n",
              "4                  0                  0                  0                  0   \n",
              "\n",
              "   Length_Employed_8  Length_Employed_9  Length_Employed_10  \\\n",
              "0                  0                  0                   0   \n",
              "1                  0                  0                   0   \n",
              "2                  0                  0                   0   \n",
              "3                  0                  0                   0   \n",
              "4                  1                  0                   0   \n",
              "\n",
              "   Purpose_Of_Loan_car  Purpose_Of_Loan_credit_card  \\\n",
              "0                    1                            0   \n",
              "1                    0                            0   \n",
              "2                    0                            0   \n",
              "3                    0                            0   \n",
              "4                    0                            0   \n",
              "\n",
              "   Purpose_Of_Loan_debt_consolidation  Purpose_Of_Loan_educational  \\\n",
              "0                                   0                            0   \n",
              "1                                   1                            0   \n",
              "2                                   1                            0   \n",
              "3                                   1                            0   \n",
              "4                                   1                            0   \n",
              "\n",
              "   Purpose_Of_Loan_home_improvement  Purpose_Of_Loan_house  \\\n",
              "0                                 0                      0   \n",
              "1                                 0                      0   \n",
              "2                                 0                      0   \n",
              "3                                 0                      0   \n",
              "4                                 0                      0   \n",
              "\n",
              "   Purpose_Of_Loan_major_purchase  Purpose_Of_Loan_medical  \\\n",
              "0                               0                        0   \n",
              "1                               0                        0   \n",
              "2                               0                        0   \n",
              "3                               0                        0   \n",
              "4                               0                        0   \n",
              "\n",
              "   Purpose_Of_Loan_moving  Purpose_Of_Loan_other  \\\n",
              "0                       0                      0   \n",
              "1                       0                      0   \n",
              "2                       0                      0   \n",
              "3                       0                      0   \n",
              "4                       0                      0   \n",
              "\n",
              "   Purpose_Of_Loan_renewable_energy  Purpose_Of_Loan_small_business  \\\n",
              "0                                 0                               0   \n",
              "1                                 0                               0   \n",
              "2                                 0                               0   \n",
              "3                                 0                               0   \n",
              "4                                 0                               0   \n",
              "\n",
              "   Purpose_Of_Loan_vacation  Purpose_Of_Loan_wedding  Inquiries_Last_6Mo_0  \\\n",
              "0                         0                        0                     1   \n",
              "1                         0                        0                     1   \n",
              "2                         0                        0                     1   \n",
              "3                         0                        0                     0   \n",
              "4                         0                        0                     0   \n",
              "\n",
              "   Inquiries_Last_6Mo_1  Inquiries_Last_6Mo_2  Inquiries_Last_6Mo_3  \\\n",
              "0                     0                     0                     0   \n",
              "1                     0                     0                     0   \n",
              "2                     0                     0                     0   \n",
              "3                     0                     0                     1   \n",
              "4                     1                     0                     0   \n",
              "\n",
              "   Inquiries_Last_6Mo_4  Inquiries_Last_6Mo_5  Inquiries_Last_6Mo_6  \\\n",
              "0                     0                     0                     0   \n",
              "1                     0                     0                     0   \n",
              "2                     0                     0                     0   \n",
              "3                     0                     0                     0   \n",
              "4                     0                     0                     0   \n",
              "\n",
              "   Inquiries_Last_6Mo_7  Inquiries_Last_6Mo_8  \n",
              "0                     0                     0  \n",
              "1                     0                     0  \n",
              "2                     0                     0  \n",
              "3                     0                     0  \n",
              "4                     0                     0  "
            ]
          },
          "metadata": {
            "tags": []
          },
          "execution_count": 37
        }
      ]
    },
    {
      "cell_type": "code",
      "metadata": {
        "id": "jPfCdV87Bldk",
        "colab_type": "code",
        "colab": {}
      },
      "source": [
        "# cols=['Loan_Amount_Requested','Annual_Income','Debt_To_Income','Months_Since_Deliquency','Number_Open_Accounts','Total_Accounts']"
      ],
      "execution_count": 0,
      "outputs": []
    },
    {
      "cell_type": "code",
      "metadata": {
        "id": "xwu4iljKP2S8",
        "colab_type": "code",
        "colab": {}
      },
      "source": [
        "# from sklearn.preprocessing import MinMaxScaler\n",
        "# scaler = MinMaxScaler()"
      ],
      "execution_count": 0,
      "outputs": []
    },
    {
      "cell_type": "code",
      "metadata": {
        "id": "Dyb2zNNPB2CS",
        "colab_type": "code",
        "colab": {}
      },
      "source": [
        "# for i in cols:\n",
        "#   data[i]=scaler.fit_transform(data[i].values.reshape(-1,1))"
      ],
      "execution_count": 0,
      "outputs": []
    },
    {
      "cell_type": "code",
      "metadata": {
        "id": "bQ-EjE9Ps-yR",
        "colab_type": "code",
        "colab": {}
      },
      "source": [
        "train=data[data['Interest_Rate'].notnull()]\n",
        "test=data[data['Interest_Rate'].isnull()]"
      ],
      "execution_count": 0,
      "outputs": []
    },
    {
      "cell_type": "code",
      "metadata": {
        "id": "FxU9ABn3tEwr",
        "colab_type": "code",
        "outputId": "d5cf84e0-8a68-4722-ab2a-27933da204b5",
        "colab": {
          "base_uri": "https://localhost:8080/",
          "height": 241
        }
      },
      "source": [
        "train.head()"
      ],
      "execution_count": 42,
      "outputs": [
        {
          "output_type": "execute_result",
          "data": {
            "text/html": [
              "<div>\n",
              "<style scoped>\n",
              "    .dataframe tbody tr th:only-of-type {\n",
              "        vertical-align: middle;\n",
              "    }\n",
              "\n",
              "    .dataframe tbody tr th {\n",
              "        vertical-align: top;\n",
              "    }\n",
              "\n",
              "    .dataframe thead th {\n",
              "        text-align: right;\n",
              "    }\n",
              "</style>\n",
              "<table border=\"1\" class=\"dataframe\">\n",
              "  <thead>\n",
              "    <tr style=\"text-align: right;\">\n",
              "      <th></th>\n",
              "      <th>Loan_Amount_Requested</th>\n",
              "      <th>Annual_Income</th>\n",
              "      <th>Debt_To_Income</th>\n",
              "      <th>Months_Since_Deliquency</th>\n",
              "      <th>Number_Open_Accounts</th>\n",
              "      <th>Total_Accounts</th>\n",
              "      <th>Interest_Rate</th>\n",
              "      <th>Gender_Female</th>\n",
              "      <th>Gender_Male</th>\n",
              "      <th>Home_Owner_Mortgage</th>\n",
              "      <th>Home_Owner_None</th>\n",
              "      <th>Home_Owner_Other</th>\n",
              "      <th>Home_Owner_Own</th>\n",
              "      <th>Home_Owner_Rent</th>\n",
              "      <th>Income_Verified_VERIFIED - income</th>\n",
              "      <th>Income_Verified_VERIFIED - income source</th>\n",
              "      <th>Income_Verified_not verified</th>\n",
              "      <th>Length_Employed_0</th>\n",
              "      <th>Length_Employed_1</th>\n",
              "      <th>Length_Employed_2</th>\n",
              "      <th>Length_Employed_3</th>\n",
              "      <th>Length_Employed_4</th>\n",
              "      <th>Length_Employed_5</th>\n",
              "      <th>Length_Employed_6</th>\n",
              "      <th>Length_Employed_7</th>\n",
              "      <th>Length_Employed_8</th>\n",
              "      <th>Length_Employed_9</th>\n",
              "      <th>Length_Employed_10</th>\n",
              "      <th>Purpose_Of_Loan_car</th>\n",
              "      <th>Purpose_Of_Loan_credit_card</th>\n",
              "      <th>Purpose_Of_Loan_debt_consolidation</th>\n",
              "      <th>Purpose_Of_Loan_educational</th>\n",
              "      <th>Purpose_Of_Loan_home_improvement</th>\n",
              "      <th>Purpose_Of_Loan_house</th>\n",
              "      <th>Purpose_Of_Loan_major_purchase</th>\n",
              "      <th>Purpose_Of_Loan_medical</th>\n",
              "      <th>Purpose_Of_Loan_moving</th>\n",
              "      <th>Purpose_Of_Loan_other</th>\n",
              "      <th>Purpose_Of_Loan_renewable_energy</th>\n",
              "      <th>Purpose_Of_Loan_small_business</th>\n",
              "      <th>Purpose_Of_Loan_vacation</th>\n",
              "      <th>Purpose_Of_Loan_wedding</th>\n",
              "      <th>Inquiries_Last_6Mo_0</th>\n",
              "      <th>Inquiries_Last_6Mo_1</th>\n",
              "      <th>Inquiries_Last_6Mo_2</th>\n",
              "      <th>Inquiries_Last_6Mo_3</th>\n",
              "      <th>Inquiries_Last_6Mo_4</th>\n",
              "      <th>Inquiries_Last_6Mo_5</th>\n",
              "      <th>Inquiries_Last_6Mo_6</th>\n",
              "      <th>Inquiries_Last_6Mo_7</th>\n",
              "      <th>Inquiries_Last_6Mo_8</th>\n",
              "    </tr>\n",
              "  </thead>\n",
              "  <tbody>\n",
              "    <tr>\n",
              "      <th>0</th>\n",
              "      <td>7000.0</td>\n",
              "      <td>68000.0</td>\n",
              "      <td>18.37</td>\n",
              "      <td>31.0</td>\n",
              "      <td>2.302585</td>\n",
              "      <td>2.708050</td>\n",
              "      <td>1.0</td>\n",
              "      <td>1</td>\n",
              "      <td>0</td>\n",
              "      <td>0</td>\n",
              "      <td>0</td>\n",
              "      <td>0</td>\n",
              "      <td>0</td>\n",
              "      <td>1</td>\n",
              "      <td>0</td>\n",
              "      <td>0</td>\n",
              "      <td>1</td>\n",
              "      <td>1</td>\n",
              "      <td>0</td>\n",
              "      <td>0</td>\n",
              "      <td>0</td>\n",
              "      <td>0</td>\n",
              "      <td>0</td>\n",
              "      <td>0</td>\n",
              "      <td>0</td>\n",
              "      <td>0</td>\n",
              "      <td>0</td>\n",
              "      <td>0</td>\n",
              "      <td>1</td>\n",
              "      <td>0</td>\n",
              "      <td>0</td>\n",
              "      <td>0</td>\n",
              "      <td>0</td>\n",
              "      <td>0</td>\n",
              "      <td>0</td>\n",
              "      <td>0</td>\n",
              "      <td>0</td>\n",
              "      <td>0</td>\n",
              "      <td>0</td>\n",
              "      <td>0</td>\n",
              "      <td>0</td>\n",
              "      <td>0</td>\n",
              "      <td>1</td>\n",
              "      <td>0</td>\n",
              "      <td>0</td>\n",
              "      <td>0</td>\n",
              "      <td>0</td>\n",
              "      <td>0</td>\n",
              "      <td>0</td>\n",
              "      <td>0</td>\n",
              "      <td>0</td>\n",
              "    </tr>\n",
              "    <tr>\n",
              "      <th>1</th>\n",
              "      <td>30000.0</td>\n",
              "      <td>63000.0</td>\n",
              "      <td>14.93</td>\n",
              "      <td>17.0</td>\n",
              "      <td>2.564949</td>\n",
              "      <td>3.218876</td>\n",
              "      <td>3.0</td>\n",
              "      <td>1</td>\n",
              "      <td>0</td>\n",
              "      <td>1</td>\n",
              "      <td>0</td>\n",
              "      <td>0</td>\n",
              "      <td>0</td>\n",
              "      <td>0</td>\n",
              "      <td>1</td>\n",
              "      <td>0</td>\n",
              "      <td>0</td>\n",
              "      <td>0</td>\n",
              "      <td>0</td>\n",
              "      <td>0</td>\n",
              "      <td>0</td>\n",
              "      <td>1</td>\n",
              "      <td>0</td>\n",
              "      <td>0</td>\n",
              "      <td>0</td>\n",
              "      <td>0</td>\n",
              "      <td>0</td>\n",
              "      <td>0</td>\n",
              "      <td>0</td>\n",
              "      <td>0</td>\n",
              "      <td>1</td>\n",
              "      <td>0</td>\n",
              "      <td>0</td>\n",
              "      <td>0</td>\n",
              "      <td>0</td>\n",
              "      <td>0</td>\n",
              "      <td>0</td>\n",
              "      <td>0</td>\n",
              "      <td>0</td>\n",
              "      <td>0</td>\n",
              "      <td>0</td>\n",
              "      <td>0</td>\n",
              "      <td>1</td>\n",
              "      <td>0</td>\n",
              "      <td>0</td>\n",
              "      <td>0</td>\n",
              "      <td>0</td>\n",
              "      <td>0</td>\n",
              "      <td>0</td>\n",
              "      <td>0</td>\n",
              "      <td>0</td>\n",
              "    </tr>\n",
              "    <tr>\n",
              "      <th>2</th>\n",
              "      <td>24725.0</td>\n",
              "      <td>75566.4</td>\n",
              "      <td>15.88</td>\n",
              "      <td>31.0</td>\n",
              "      <td>2.564949</td>\n",
              "      <td>2.833213</td>\n",
              "      <td>3.0</td>\n",
              "      <td>0</td>\n",
              "      <td>1</td>\n",
              "      <td>1</td>\n",
              "      <td>0</td>\n",
              "      <td>0</td>\n",
              "      <td>0</td>\n",
              "      <td>0</td>\n",
              "      <td>0</td>\n",
              "      <td>1</td>\n",
              "      <td>0</td>\n",
              "      <td>0</td>\n",
              "      <td>0</td>\n",
              "      <td>0</td>\n",
              "      <td>0</td>\n",
              "      <td>0</td>\n",
              "      <td>0</td>\n",
              "      <td>0</td>\n",
              "      <td>1</td>\n",
              "      <td>0</td>\n",
              "      <td>0</td>\n",
              "      <td>0</td>\n",
              "      <td>0</td>\n",
              "      <td>0</td>\n",
              "      <td>1</td>\n",
              "      <td>0</td>\n",
              "      <td>0</td>\n",
              "      <td>0</td>\n",
              "      <td>0</td>\n",
              "      <td>0</td>\n",
              "      <td>0</td>\n",
              "      <td>0</td>\n",
              "      <td>0</td>\n",
              "      <td>0</td>\n",
              "      <td>0</td>\n",
              "      <td>0</td>\n",
              "      <td>1</td>\n",
              "      <td>0</td>\n",
              "      <td>0</td>\n",
              "      <td>0</td>\n",
              "      <td>0</td>\n",
              "      <td>0</td>\n",
              "      <td>0</td>\n",
              "      <td>0</td>\n",
              "      <td>0</td>\n",
              "    </tr>\n",
              "    <tr>\n",
              "      <th>3</th>\n",
              "      <td>16000.0</td>\n",
              "      <td>56160.0</td>\n",
              "      <td>14.34</td>\n",
              "      <td>31.0</td>\n",
              "      <td>2.833213</td>\n",
              "      <td>3.135494</td>\n",
              "      <td>3.0</td>\n",
              "      <td>0</td>\n",
              "      <td>1</td>\n",
              "      <td>1</td>\n",
              "      <td>0</td>\n",
              "      <td>0</td>\n",
              "      <td>0</td>\n",
              "      <td>0</td>\n",
              "      <td>0</td>\n",
              "      <td>1</td>\n",
              "      <td>0</td>\n",
              "      <td>1</td>\n",
              "      <td>0</td>\n",
              "      <td>0</td>\n",
              "      <td>0</td>\n",
              "      <td>0</td>\n",
              "      <td>0</td>\n",
              "      <td>0</td>\n",
              "      <td>0</td>\n",
              "      <td>0</td>\n",
              "      <td>0</td>\n",
              "      <td>0</td>\n",
              "      <td>0</td>\n",
              "      <td>0</td>\n",
              "      <td>1</td>\n",
              "      <td>0</td>\n",
              "      <td>0</td>\n",
              "      <td>0</td>\n",
              "      <td>0</td>\n",
              "      <td>0</td>\n",
              "      <td>0</td>\n",
              "      <td>0</td>\n",
              "      <td>0</td>\n",
              "      <td>0</td>\n",
              "      <td>0</td>\n",
              "      <td>0</td>\n",
              "      <td>0</td>\n",
              "      <td>0</td>\n",
              "      <td>0</td>\n",
              "      <td>1</td>\n",
              "      <td>0</td>\n",
              "      <td>0</td>\n",
              "      <td>0</td>\n",
              "      <td>0</td>\n",
              "      <td>0</td>\n",
              "    </tr>\n",
              "    <tr>\n",
              "      <th>4</th>\n",
              "      <td>17000.0</td>\n",
              "      <td>96000.0</td>\n",
              "      <td>22.17</td>\n",
              "      <td>31.0</td>\n",
              "      <td>2.995732</td>\n",
              "      <td>3.433987</td>\n",
              "      <td>1.0</td>\n",
              "      <td>1</td>\n",
              "      <td>0</td>\n",
              "      <td>0</td>\n",
              "      <td>0</td>\n",
              "      <td>0</td>\n",
              "      <td>1</td>\n",
              "      <td>0</td>\n",
              "      <td>0</td>\n",
              "      <td>1</td>\n",
              "      <td>0</td>\n",
              "      <td>0</td>\n",
              "      <td>0</td>\n",
              "      <td>0</td>\n",
              "      <td>0</td>\n",
              "      <td>0</td>\n",
              "      <td>0</td>\n",
              "      <td>0</td>\n",
              "      <td>0</td>\n",
              "      <td>1</td>\n",
              "      <td>0</td>\n",
              "      <td>0</td>\n",
              "      <td>0</td>\n",
              "      <td>0</td>\n",
              "      <td>1</td>\n",
              "      <td>0</td>\n",
              "      <td>0</td>\n",
              "      <td>0</td>\n",
              "      <td>0</td>\n",
              "      <td>0</td>\n",
              "      <td>0</td>\n",
              "      <td>0</td>\n",
              "      <td>0</td>\n",
              "      <td>0</td>\n",
              "      <td>0</td>\n",
              "      <td>0</td>\n",
              "      <td>0</td>\n",
              "      <td>1</td>\n",
              "      <td>0</td>\n",
              "      <td>0</td>\n",
              "      <td>0</td>\n",
              "      <td>0</td>\n",
              "      <td>0</td>\n",
              "      <td>0</td>\n",
              "      <td>0</td>\n",
              "    </tr>\n",
              "  </tbody>\n",
              "</table>\n",
              "</div>"
            ],
            "text/plain": [
              "   Loan_Amount_Requested  Annual_Income  Debt_To_Income  \\\n",
              "0                 7000.0        68000.0           18.37   \n",
              "1                30000.0        63000.0           14.93   \n",
              "2                24725.0        75566.4           15.88   \n",
              "3                16000.0        56160.0           14.34   \n",
              "4                17000.0        96000.0           22.17   \n",
              "\n",
              "   Months_Since_Deliquency  Number_Open_Accounts  Total_Accounts  \\\n",
              "0                     31.0              2.302585        2.708050   \n",
              "1                     17.0              2.564949        3.218876   \n",
              "2                     31.0              2.564949        2.833213   \n",
              "3                     31.0              2.833213        3.135494   \n",
              "4                     31.0              2.995732        3.433987   \n",
              "\n",
              "   Interest_Rate  Gender_Female  Gender_Male  Home_Owner_Mortgage  \\\n",
              "0            1.0              1            0                    0   \n",
              "1            3.0              1            0                    1   \n",
              "2            3.0              0            1                    1   \n",
              "3            3.0              0            1                    1   \n",
              "4            1.0              1            0                    0   \n",
              "\n",
              "   Home_Owner_None  Home_Owner_Other  Home_Owner_Own  Home_Owner_Rent  \\\n",
              "0                0                 0               0                1   \n",
              "1                0                 0               0                0   \n",
              "2                0                 0               0                0   \n",
              "3                0                 0               0                0   \n",
              "4                0                 0               1                0   \n",
              "\n",
              "   Income_Verified_VERIFIED - income  \\\n",
              "0                                  0   \n",
              "1                                  1   \n",
              "2                                  0   \n",
              "3                                  0   \n",
              "4                                  0   \n",
              "\n",
              "   Income_Verified_VERIFIED - income source  Income_Verified_not verified  \\\n",
              "0                                         0                             1   \n",
              "1                                         0                             0   \n",
              "2                                         1                             0   \n",
              "3                                         1                             0   \n",
              "4                                         1                             0   \n",
              "\n",
              "   Length_Employed_0  Length_Employed_1  Length_Employed_2  Length_Employed_3  \\\n",
              "0                  1                  0                  0                  0   \n",
              "1                  0                  0                  0                  0   \n",
              "2                  0                  0                  0                  0   \n",
              "3                  1                  0                  0                  0   \n",
              "4                  0                  0                  0                  0   \n",
              "\n",
              "   Length_Employed_4  Length_Employed_5  Length_Employed_6  Length_Employed_7  \\\n",
              "0                  0                  0                  0                  0   \n",
              "1                  1                  0                  0                  0   \n",
              "2                  0                  0                  0                  1   \n",
              "3                  0                  0                  0                  0   \n",
              "4                  0                  0                  0                  0   \n",
              "\n",
              "   Length_Employed_8  Length_Employed_9  Length_Employed_10  \\\n",
              "0                  0                  0                   0   \n",
              "1                  0                  0                   0   \n",
              "2                  0                  0                   0   \n",
              "3                  0                  0                   0   \n",
              "4                  1                  0                   0   \n",
              "\n",
              "   Purpose_Of_Loan_car  Purpose_Of_Loan_credit_card  \\\n",
              "0                    1                            0   \n",
              "1                    0                            0   \n",
              "2                    0                            0   \n",
              "3                    0                            0   \n",
              "4                    0                            0   \n",
              "\n",
              "   Purpose_Of_Loan_debt_consolidation  Purpose_Of_Loan_educational  \\\n",
              "0                                   0                            0   \n",
              "1                                   1                            0   \n",
              "2                                   1                            0   \n",
              "3                                   1                            0   \n",
              "4                                   1                            0   \n",
              "\n",
              "   Purpose_Of_Loan_home_improvement  Purpose_Of_Loan_house  \\\n",
              "0                                 0                      0   \n",
              "1                                 0                      0   \n",
              "2                                 0                      0   \n",
              "3                                 0                      0   \n",
              "4                                 0                      0   \n",
              "\n",
              "   Purpose_Of_Loan_major_purchase  Purpose_Of_Loan_medical  \\\n",
              "0                               0                        0   \n",
              "1                               0                        0   \n",
              "2                               0                        0   \n",
              "3                               0                        0   \n",
              "4                               0                        0   \n",
              "\n",
              "   Purpose_Of_Loan_moving  Purpose_Of_Loan_other  \\\n",
              "0                       0                      0   \n",
              "1                       0                      0   \n",
              "2                       0                      0   \n",
              "3                       0                      0   \n",
              "4                       0                      0   \n",
              "\n",
              "   Purpose_Of_Loan_renewable_energy  Purpose_Of_Loan_small_business  \\\n",
              "0                                 0                               0   \n",
              "1                                 0                               0   \n",
              "2                                 0                               0   \n",
              "3                                 0                               0   \n",
              "4                                 0                               0   \n",
              "\n",
              "   Purpose_Of_Loan_vacation  Purpose_Of_Loan_wedding  Inquiries_Last_6Mo_0  \\\n",
              "0                         0                        0                     1   \n",
              "1                         0                        0                     1   \n",
              "2                         0                        0                     1   \n",
              "3                         0                        0                     0   \n",
              "4                         0                        0                     0   \n",
              "\n",
              "   Inquiries_Last_6Mo_1  Inquiries_Last_6Mo_2  Inquiries_Last_6Mo_3  \\\n",
              "0                     0                     0                     0   \n",
              "1                     0                     0                     0   \n",
              "2                     0                     0                     0   \n",
              "3                     0                     0                     1   \n",
              "4                     1                     0                     0   \n",
              "\n",
              "   Inquiries_Last_6Mo_4  Inquiries_Last_6Mo_5  Inquiries_Last_6Mo_6  \\\n",
              "0                     0                     0                     0   \n",
              "1                     0                     0                     0   \n",
              "2                     0                     0                     0   \n",
              "3                     0                     0                     0   \n",
              "4                     0                     0                     0   \n",
              "\n",
              "   Inquiries_Last_6Mo_7  Inquiries_Last_6Mo_8  \n",
              "0                     0                     0  \n",
              "1                     0                     0  \n",
              "2                     0                     0  \n",
              "3                     0                     0  \n",
              "4                     0                     0  "
            ]
          },
          "metadata": {
            "tags": []
          },
          "execution_count": 42
        }
      ]
    },
    {
      "cell_type": "code",
      "metadata": {
        "id": "SKl7ywSljM3j",
        "colab_type": "code",
        "colab": {}
      },
      "source": [
        "# print(train['Annual_Income'].max())\n",
        "# print(train['Annual_Income'].mean())\n",
        "# print(train['Annual_Income'].median())"
      ],
      "execution_count": 0,
      "outputs": []
    },
    {
      "cell_type": "code",
      "metadata": {
        "id": "Z3EzzAHtiRM8",
        "colab_type": "code",
        "outputId": "70d8322f-babb-4382-9468-8a1389389cac",
        "colab": {
          "base_uri": "https://localhost:8080/",
          "height": 294
        }
      },
      "source": [
        "# treating the outliers of the training data.\n",
        "\n",
        "train.boxplot(column=['Annual_Income'])\n",
        "# from the give plot we can see distribution of data['Annual_Income] and top two points are the extreme outliers so lets drop them\n"
      ],
      "execution_count": 44,
      "outputs": [
        {
          "output_type": "execute_result",
          "data": {
            "text/plain": [
              "<matplotlib.axes._subplots.AxesSubplot at 0x7f0b8c819cf8>"
            ]
          },
          "metadata": {
            "tags": []
          },
          "execution_count": 44
        },
        {
          "output_type": "display_data",
          "data": {
            "image/png": "[encoded data removed]",
            "text/plain": [
              "<Figure size 432x288 with 1 Axes>"
            ]
          },
          "metadata": {
            "tags": [],
            "needs_background": "light"
          }
        }
      ]
    },
    {
      "cell_type": "code",
      "metadata": {
        "id": "XeQ2RgjRkwjf",
        "colab_type": "code",
        "colab": {}
      },
      "source": [
        "# drop all the rown have annual_income more than 4000000.\n",
        "ind=train[train['Annual_Income']>4000000].index\n",
        "train=train.drop(ind,axis=0)"
      ],
      "execution_count": 0,
      "outputs": []
    },
    {
      "cell_type": "code",
      "metadata": {
        "id": "GIiwK1Xams9r",
        "colab_type": "code",
        "colab": {}
      },
      "source": [
        "# train.boxplot(column=['Months_Since_Deliquency'])"
      ],
      "execution_count": 0,
      "outputs": []
    },
    {
      "cell_type": "code",
      "metadata": {
        "id": "D4yG7EC0k8bj",
        "colab_type": "code",
        "colab": {}
      },
      "source": [
        "# print(train['Total_Accounts'].mean())\n",
        "# print(train['Total_Accounts'].median())\n",
        "\n",
        "# print(train['Total_Accounts'].max())"
      ],
      "execution_count": 0,
      "outputs": []
    },
    {
      "cell_type": "code",
      "metadata": {
        "id": "iDCVJ2Wmm2Jh",
        "colab_type": "code",
        "colab": {}
      },
      "source": [
        "# train.head()"
      ],
      "execution_count": 0,
      "outputs": []
    },
    {
      "cell_type": "code",
      "metadata": {
        "id": "VpXOFd58u6n2",
        "colab_type": "code",
        "colab": {}
      },
      "source": [
        "test.head()\n",
        "test=test.drop('Interest_Rate',axis=1)"
      ],
      "execution_count": 0,
      "outputs": []
    },
    {
      "cell_type": "code",
      "metadata": {
        "id": "gLmztzGkuj69",
        "colab_type": "code",
        "outputId": "ba583bf8-43d5-4c27-a5d9-af5026432f09",
        "colab": {
          "base_uri": "https://localhost:8080/",
          "height": 51
        }
      },
      "source": [
        "print(test.shape)\n",
        "print(train.shape)"
      ],
      "execution_count": 50,
      "outputs": [
        {
          "output_type": "stream",
          "text": [
            "(109541, 50)\n",
            "(164304, 51)\n"
          ],
          "name": "stdout"
        }
      ]
    },
    {
      "cell_type": "code",
      "metadata": {
        "id": "-iQPkUXgsS2k",
        "colab_type": "code",
        "colab": {}
      },
      "source": [
        "X=train.drop('Interest_Rate',axis=1)\n",
        "Y=train['Interest_Rate']"
      ],
      "execution_count": 0,
      "outputs": []
    },
    {
      "cell_type": "code",
      "metadata": {
        "id": "1Y3epFhxs1W7",
        "colab_type": "code",
        "colab": {}
      },
      "source": [
        "from sklearn.model_selection import train_test_split\n",
        "\n",
        "X_train, X_test, y_train, y_test = train_test_split(X, Y, test_size=0.3, random_state=123)"
      ],
      "execution_count": 0,
      "outputs": []
    },
    {
      "cell_type": "code",
      "metadata": {
        "id": "kD-dHfeEzfDz",
        "colab_type": "code",
        "colab": {}
      },
      "source": [
        "from sklearn.metrics import accuracy_score,f1_score"
      ],
      "execution_count": 0,
      "outputs": []
    },
    {
      "cell_type": "code",
      "metadata": {
        "id": "2LRDNO53wH3l",
        "colab_type": "code",
        "colab": {}
      },
      "source": [
        "# model=XGBClassifier()\n",
        "\n",
        "# # Various hyper-parameters to tune\n",
        "# parameters = {'nthread':[4], #when use hyperthread, xgboost may become slower\n",
        "#               'objective':['multi:softprob'],\n",
        "#               'silent': [1],\n",
        "#               'learning_rate': [0.035],\n",
        "#               'n_estimators': [4500],\n",
        "#               'max_depth': [7,9],\n",
        "#               'min_child_weight': [5],\n",
        "#               'gamma':[0.01,0.03],\n",
        "#               'subsample': [0.865],\n",
        "#               'scale_pos_weight':[1],\n",
        "#               'colsample_bytree':[0.875],\n",
        "#               'reg_alpha':[0.00125],\n",
        "#               'reg_lambda':[0.825]}"
      ],
      "execution_count": 0,
      "outputs": []
    },
    {
      "cell_type": "code",
      "metadata": {
        "id": "3UmyvVw3H50S",
        "colab_type": "code",
        "colab": {}
      },
      "source": [
        "# rscvj1 = RandomizedSearchCV(model,\n",
        "#                             parameters,\n",
        "#                             n_jobs=5,\n",
        "#                             cv=2)"
      ],
      "execution_count": 0,
      "outputs": []
    },
    {
      "cell_type": "code",
      "metadata": {
        "id": "oXWjnNlGILaQ",
        "colab_type": "code",
        "colab": {}
      },
      "source": [
        "# ts=time.time()\n",
        "\n",
        "# rscvj1.fit(\n",
        "#     X_train, \n",
        "#     y_train,\n",
        "#     eval_metric=\"merror\", \n",
        "#     eval_set=[(X_train, y_train), (X_test, y_test)], \n",
        "#     verbose=True, \n",
        "#     early_stopping_rounds = 100\n",
        "# )\n",
        "\n",
        "# # time.time-ts"
      ],
      "execution_count": 0,
      "outputs": []
    },
    {
      "cell_type": "markdown",
      "metadata": {
        "id": "R1qt86HZTEo6",
        "colab_type": "text"
      },
      "source": [
        "Best Parameter are found:\n",
        "\n",
        "{'colsample_bytree': 0.875,\n",
        " 'gamma': 0.03,\n",
        " 'learning_rate': 0.035,\n",
        " 'max_depth': 7,\n",
        " 'min_child_weight': 5,\n",
        " 'n_estimators': 4500,\n",
        " 'nthread': 4,\n",
        " 'objective': 'multi:softprob',\n",
        " 'reg_alpha': 0.00125,\n",
        " 'reg_lambda': 0.825,\n",
        " 'scale_pos_weight': 1,\n",
        " 'silent': 1,\n",
        " 'subsample': 0.865}"
      ]
    },
    {
      "cell_type": "code",
      "metadata": {
        "id": "vZiBRzUfJXMd",
        "colab_type": "code",
        "outputId": "aa13fc94-2ad0-42ed-ff50-8d58eb1af47e",
        "colab": {
          "base_uri": "https://localhost:8080/",
          "height": 238
        }
      },
      "source": [
        "rscvj1.best_params_"
      ],
      "execution_count": 0,
      "outputs": [
        {
          "output_type": "execute_result",
          "data": {
            "text/plain": [
              "{'colsample_bytree': 0.875,\n",
              " 'gamma': 0.03,\n",
              " 'learning_rate': 0.035,\n",
              " 'max_depth': 7,\n",
              " 'min_child_weight': 5,\n",
              " 'n_estimators': 4500,\n",
              " 'nthread': 4,\n",
              " 'objective': 'multi:softprob',\n",
              " 'reg_alpha': 0.00125,\n",
              " 'reg_lambda': 0.825,\n",
              " 'scale_pos_weight': 1,\n",
              " 'silent': 1,\n",
              " 'subsample': 0.865}"
            ]
          },
          "metadata": {
            "tags": []
          },
          "execution_count": 160
        }
      ]
    },
    {
      "cell_type": "code",
      "metadata": {
        "id": "BOSqk8wyy-fG",
        "colab_type": "code",
        "colab": {}
      },
      "source": [
        "model = XGBClassifier(\n",
        "    colsample_bytree= 0.875,\n",
        "    gamma=0.03,\n",
        "    learning_rate= 0.035,\n",
        "    max_depth=7,\n",
        "    min_child_weight= 5,\n",
        "    n_estimators= 4500,\n",
        "    nthread= 4,\n",
        "    objective=['multi:softprob'],\n",
        "    reg_alpha= 0.00125,\n",
        "    reg_lambda=0.825,\n",
        "    scale_pos_weight=1,\n",
        "    silent=1,\n",
        "    subsample=0.865\n",
        "    )\n"
      ],
      "execution_count": 0,
      "outputs": []
    },
    {
      "cell_type": "code",
      "metadata": {
        "id": "ZBvVYjhf0dMr",
        "colab_type": "code",
        "outputId": "7558f423-399f-482d-cb99-b8f64bbb1cbd",
        "colab": {
          "base_uri": "https://localhost:8080/",
          "height": 1000
        }
      },
      "source": [
        "# # fit the model\n",
        "start_time=time.time()\n",
        "\n",
        "# # model = model.fit(X_train,y_train)\n",
        "\n",
        "model.fit(\n",
        "    X_train, \n",
        "    y_train, \n",
        "    eval_metric=\"merror\", \n",
        "    eval_set=[(X_train, y_train), (X_test, y_test)], \n",
        "    verbose=True, \n",
        "    early_stopping_rounds = 100)\n",
        "\n",
        "end_time=time.time() - start_time\n",
        "print(end_time)"
      ],
      "execution_count": 0,
      "outputs": [
        {
          "output_type": "stream",
          "text": [
            "[0]\tvalidation_0-merror:0.485228\tvalidation_1-merror:0.498093\n",
            "Multiple eval metrics have been passed: 'validation_1-merror' will be used for early stopping.\n",
            "\n",
            "Will train until validation_1-merror hasn't improved in 100 rounds.\n",
            "[1]\tvalidation_0-merror:0.475742\tvalidation_1-merror:0.488903\n",
            "[2]\tvalidation_0-merror:0.47429\tvalidation_1-merror:0.488903\n",
            "[3]\tvalidation_0-merror:0.47309\tvalidation_1-merror:0.488051\n",
            "[4]\tvalidation_0-merror:0.471716\tvalidation_1-merror:0.485089\n",
            "[5]\tvalidation_0-merror:0.470612\tvalidation_1-merror:0.485353\n",
            "[6]\tvalidation_0-merror:0.468977\tvalidation_1-merror:0.485495\n",
            "[7]\tvalidation_0-merror:0.469977\tvalidation_1-merror:0.483993\n",
            "[8]\tvalidation_0-merror:0.469273\tvalidation_1-merror:0.484602\n",
            "[9]\tvalidation_0-merror:0.469603\tvalidation_1-merror:0.484805\n",
            "[10]\tvalidation_0-merror:0.468395\tvalidation_1-merror:0.483648\n",
            "[11]\tvalidation_0-merror:0.467595\tvalidation_1-merror:0.482695\n",
            "[12]\tvalidation_0-merror:0.467395\tvalidation_1-merror:0.482715\n",
            "[13]\tvalidation_0-merror:0.467308\tvalidation_1-merror:0.482736\n",
            "[14]\tvalidation_0-merror:0.466656\tvalidation_1-merror:0.482086\n",
            "[15]\tvalidation_0-merror:0.466369\tvalidation_1-merror:0.482188\n",
            "[16]\tvalidation_0-merror:0.465986\tvalidation_1-merror:0.481741\n",
            "[17]\tvalidation_0-merror:0.465099\tvalidation_1-merror:0.481173\n",
            "[18]\tvalidation_0-merror:0.464891\tvalidation_1-merror:0.481255\n",
            "[19]\tvalidation_0-merror:0.464969\tvalidation_1-merror:0.480889\n",
            "[20]\tvalidation_0-merror:0.464378\tvalidation_1-merror:0.48093\n",
            "[21]\tvalidation_0-merror:0.463743\tvalidation_1-merror:0.481194\n",
            "[22]\tvalidation_0-merror:0.463734\tvalidation_1-merror:0.480971\n",
            "[23]\tvalidation_0-merror:0.462813\tvalidation_1-merror:0.480098\n",
            "[24]\tvalidation_0-merror:0.4627\tvalidation_1-merror:0.480321\n",
            "[25]\tvalidation_0-merror:0.462786\tvalidation_1-merror:0.479794\n",
            "[26]\tvalidation_0-merror:0.462473\tvalidation_1-merror:0.47949\n",
            "[27]\tvalidation_0-merror:0.462239\tvalidation_1-merror:0.479003\n",
            "[28]\tvalidation_0-merror:0.461978\tvalidation_1-merror:0.479064\n",
            "[29]\tvalidation_0-merror:0.461517\tvalidation_1-merror:0.478922\n",
            "[30]\tvalidation_0-merror:0.461334\tvalidation_1-merror:0.478698\n",
            "[31]\tvalidation_0-merror:0.461178\tvalidation_1-merror:0.478394\n",
            "[32]\tvalidation_0-merror:0.460874\tvalidation_1-merror:0.478191\n",
            "[33]\tvalidation_0-merror:0.460613\tvalidation_1-merror:0.478455\n",
            "[34]\tvalidation_0-merror:0.460065\tvalidation_1-merror:0.478496\n",
            "[35]\tvalidation_0-merror:0.45963\tvalidation_1-merror:0.47813\n",
            "[36]\tvalidation_0-merror:0.459161\tvalidation_1-merror:0.477623\n",
            "[37]\tvalidation_0-merror:0.45903\tvalidation_1-merror:0.47738\n",
            "[38]\tvalidation_0-merror:0.458396\tvalidation_1-merror:0.477359\n",
            "[39]\tvalidation_0-merror:0.458317\tvalidation_1-merror:0.477157\n",
            "[40]\tvalidation_0-merror:0.45757\tvalidation_1-merror:0.477217\n",
            "[41]\tvalidation_0-merror:0.457404\tvalidation_1-merror:0.476649\n",
            "[42]\tvalidation_0-merror:0.457274\tvalidation_1-merror:0.476974\n",
            "[43]\tvalidation_0-merror:0.4567\tvalidation_1-merror:0.476649\n",
            "[44]\tvalidation_0-merror:0.456439\tvalidation_1-merror:0.476162\n",
            "[45]\tvalidation_0-merror:0.456048\tvalidation_1-merror:0.476284\n",
            "[46]\tvalidation_0-merror:0.455335\tvalidation_1-merror:0.476406\n",
            "[47]\tvalidation_0-merror:0.455318\tvalidation_1-merror:0.476406\n",
            "[48]\tvalidation_0-merror:0.454944\tvalidation_1-merror:0.475554\n",
            "[49]\tvalidation_0-merror:0.454526\tvalidation_1-merror:0.475331\n",
            "[50]\tvalidation_0-merror:0.454266\tvalidation_1-merror:0.475371\n",
            "[51]\tvalidation_0-merror:0.454422\tvalidation_1-merror:0.474925\n",
            "[52]\tvalidation_0-merror:0.454144\tvalidation_1-merror:0.474722\n",
            "[53]\tvalidation_0-merror:0.453605\tvalidation_1-merror:0.474844\n",
            "[54]\tvalidation_0-merror:0.453561\tvalidation_1-merror:0.474621\n",
            "[55]\tvalidation_0-merror:0.453474\tvalidation_1-merror:0.474479\n",
            "[56]\tvalidation_0-merror:0.453101\tvalidation_1-merror:0.474174\n",
            "[57]\tvalidation_0-merror:0.452753\tvalidation_1-merror:0.474032\n",
            "[58]\tvalidation_0-merror:0.45224\tvalidation_1-merror:0.474093\n",
            "[59]\tvalidation_0-merror:0.451962\tvalidation_1-merror:0.473992\n",
            "[60]\tvalidation_0-merror:0.451988\tvalidation_1-merror:0.473485\n",
            "[61]\tvalidation_0-merror:0.451666\tvalidation_1-merror:0.473647\n",
            "[62]\tvalidation_0-merror:0.451214\tvalidation_1-merror:0.473383\n",
            "[63]\tvalidation_0-merror:0.451144\tvalidation_1-merror:0.472957\n",
            "[64]\tvalidation_0-merror:0.450666\tvalidation_1-merror:0.472714\n",
            "[65]\tvalidation_0-merror:0.45057\tvalidation_1-merror:0.472531\n",
            "[66]\tvalidation_0-merror:0.450179\tvalidation_1-merror:0.47249\n",
            "[67]\tvalidation_0-merror:0.449727\tvalidation_1-merror:0.472085\n",
            "[68]\tvalidation_0-merror:0.449284\tvalidation_1-merror:0.472551\n",
            "[69]\tvalidation_0-merror:0.449188\tvalidation_1-merror:0.471902\n",
            "[70]\tvalidation_0-merror:0.448597\tvalidation_1-merror:0.471983\n",
            "[71]\tvalidation_0-merror:0.448118\tvalidation_1-merror:0.471395\n",
            "[72]\tvalidation_0-merror:0.447814\tvalidation_1-merror:0.471456\n",
            "[73]\tvalidation_0-merror:0.447536\tvalidation_1-merror:0.471496\n",
            "[74]\tvalidation_0-merror:0.447301\tvalidation_1-merror:0.471436\n",
            "[75]\tvalidation_0-merror:0.446953\tvalidation_1-merror:0.47107\n",
            "[76]\tvalidation_0-merror:0.446623\tvalidation_1-merror:0.470786\n",
            "[77]\tvalidation_0-merror:0.446449\tvalidation_1-merror:0.470746\n",
            "[78]\tvalidation_0-merror:0.44638\tvalidation_1-merror:0.470888\n",
            "[79]\tvalidation_0-merror:0.446066\tvalidation_1-merror:0.470725\n",
            "[80]\tvalidation_0-merror:0.445788\tvalidation_1-merror:0.470746\n",
            "[81]\tvalidation_0-merror:0.445997\tvalidation_1-merror:0.470685\n",
            "[82]\tvalidation_0-merror:0.445588\tvalidation_1-merror:0.470888\n",
            "[83]\tvalidation_0-merror:0.445432\tvalidation_1-merror:0.470685\n",
            "[84]\tvalidation_0-merror:0.444936\tvalidation_1-merror:0.470604\n",
            "[85]\tvalidation_0-merror:0.44451\tvalidation_1-merror:0.470218\n",
            "[86]\tvalidation_0-merror:0.444362\tvalidation_1-merror:0.470259\n",
            "[87]\tvalidation_0-merror:0.444136\tvalidation_1-merror:0.469813\n",
            "[88]\tvalidation_0-merror:0.44391\tvalidation_1-merror:0.469853\n",
            "[89]\tvalidation_0-merror:0.443754\tvalidation_1-merror:0.469934\n",
            "[90]\tvalidation_0-merror:0.443597\tvalidation_1-merror:0.469711\n",
            "[91]\tvalidation_0-merror:0.443328\tvalidation_1-merror:0.469366\n",
            "[92]\tvalidation_0-merror:0.443145\tvalidation_1-merror:0.46961\n",
            "[93]\tvalidation_0-merror:0.443102\tvalidation_1-merror:0.469671\n",
            "[94]\tvalidation_0-merror:0.442762\tvalidation_1-merror:0.469346\n",
            "[95]\tvalidation_0-merror:0.442441\tvalidation_1-merror:0.469427\n",
            "[96]\tvalidation_0-merror:0.442423\tvalidation_1-merror:0.46892\n",
            "[97]\tvalidation_0-merror:0.442258\tvalidation_1-merror:0.46892\n",
            "[98]\tvalidation_0-merror:0.441928\tvalidation_1-merror:0.468758\n",
            "[99]\tvalidation_0-merror:0.44165\tvalidation_1-merror:0.468758\n",
            "[100]\tvalidation_0-merror:0.441571\tvalidation_1-merror:0.468697\n",
            "[101]\tvalidation_0-merror:0.441363\tvalidation_1-merror:0.468737\n",
            "[102]\tvalidation_0-merror:0.441102\tvalidation_1-merror:0.468758\n",
            "[103]\tvalidation_0-merror:0.441006\tvalidation_1-merror:0.468108\n",
            "[104]\tvalidation_0-merror:0.440728\tvalidation_1-merror:0.468534\n",
            "[105]\tvalidation_0-merror:0.440519\tvalidation_1-merror:0.468311\n",
            "[106]\tvalidation_0-merror:0.440406\tvalidation_1-merror:0.468271\n",
            "[107]\tvalidation_0-merror:0.440224\tvalidation_1-merror:0.46821\n",
            "[108]\tvalidation_0-merror:0.440067\tvalidation_1-merror:0.468048\n",
            "[109]\tvalidation_0-merror:0.439754\tvalidation_1-merror:0.46825\n",
            "[110]\tvalidation_0-merror:0.439641\tvalidation_1-merror:0.468027\n",
            "[111]\tvalidation_0-merror:0.43938\tvalidation_1-merror:0.467824\n",
            "[112]\tvalidation_0-merror:0.43925\tvalidation_1-merror:0.467682\n",
            "[113]\tvalidation_0-merror:0.43905\tvalidation_1-merror:0.467743\n",
            "[114]\tvalidation_0-merror:0.438685\tvalidation_1-merror:0.46754\n",
            "[115]\tvalidation_0-merror:0.438485\tvalidation_1-merror:0.467459\n",
            "[116]\tvalidation_0-merror:0.438346\tvalidation_1-merror:0.467378\n",
            "[117]\tvalidation_0-merror:0.43825\tvalidation_1-merror:0.467175\n",
            "[118]\tvalidation_0-merror:0.438033\tvalidation_1-merror:0.467216\n",
            "[119]\tvalidation_0-merror:0.437798\tvalidation_1-merror:0.466729\n",
            "[120]\tvalidation_0-merror:0.437502\tvalidation_1-merror:0.466506\n",
            "[121]\tvalidation_0-merror:0.437311\tvalidation_1-merror:0.466729\n",
            "[122]\tvalidation_0-merror:0.436972\tvalidation_1-merror:0.466303\n",
            "[123]\tvalidation_0-merror:0.436946\tvalidation_1-merror:0.466283\n",
            "[124]\tvalidation_0-merror:0.43652\tvalidation_1-merror:0.466384\n",
            "[125]\tvalidation_0-merror:0.436398\tvalidation_1-merror:0.466181\n",
            "[126]\tvalidation_0-merror:0.436172\tvalidation_1-merror:0.466039\n",
            "[127]\tvalidation_0-merror:0.436181\tvalidation_1-merror:0.465999\n",
            "[128]\tvalidation_0-merror:0.435833\tvalidation_1-merror:0.465897\n",
            "[129]\tvalidation_0-merror:0.435702\tvalidation_1-merror:0.465958\n",
            "[130]\tvalidation_0-merror:0.435468\tvalidation_1-merror:0.465796\n",
            "[131]\tvalidation_0-merror:0.435363\tvalidation_1-merror:0.465958\n",
            "[132]\tvalidation_0-merror:0.435346\tvalidation_1-merror:0.465593\n",
            "[133]\tvalidation_0-merror:0.435172\tvalidation_1-merror:0.46541\n",
            "[134]\tvalidation_0-merror:0.435094\tvalidation_1-merror:0.465167\n",
            "[135]\tvalidation_0-merror:0.434859\tvalidation_1-merror:0.464923\n",
            "[136]\tvalidation_0-merror:0.434789\tvalidation_1-merror:0.465086\n",
            "[137]\tvalidation_0-merror:0.434416\tvalidation_1-merror:0.465045\n",
            "[138]\tvalidation_0-merror:0.434207\tvalidation_1-merror:0.464903\n",
            "[139]\tvalidation_0-merror:0.43412\tvalidation_1-merror:0.464802\n",
            "[140]\tvalidation_0-merror:0.434111\tvalidation_1-merror:0.464761\n",
            "[141]\tvalidation_0-merror:0.433972\tvalidation_1-merror:0.464457\n",
            "[142]\tvalidation_0-merror:0.433729\tvalidation_1-merror:0.464315\n",
            "[143]\tvalidation_0-merror:0.433555\tvalidation_1-merror:0.464396\n",
            "[144]\tvalidation_0-merror:0.433546\tvalidation_1-merror:0.464416\n",
            "[145]\tvalidation_0-merror:0.433398\tvalidation_1-merror:0.464254\n",
            "[146]\tvalidation_0-merror:0.433059\tvalidation_1-merror:0.464355\n",
            "[147]\tvalidation_0-merror:0.432937\tvalidation_1-merror:0.464355\n",
            "[148]\tvalidation_0-merror:0.432668\tvalidation_1-merror:0.464315\n",
            "[149]\tvalidation_0-merror:0.432581\tvalidation_1-merror:0.464234\n",
            "[150]\tvalidation_0-merror:0.432233\tvalidation_1-merror:0.464132\n",
            "[151]\tvalidation_0-merror:0.432129\tvalidation_1-merror:0.464152\n",
            "[152]\tvalidation_0-merror:0.432085\tvalidation_1-merror:0.464152\n",
            "[153]\tvalidation_0-merror:0.43199\tvalidation_1-merror:0.463929\n",
            "[154]\tvalidation_0-merror:0.43159\tvalidation_1-merror:0.46395\n",
            "[155]\tvalidation_0-merror:0.431572\tvalidation_1-merror:0.464152\n",
            "[156]\tvalidation_0-merror:0.431442\tvalidation_1-merror:0.463909\n",
            "[157]\tvalidation_0-merror:0.431225\tvalidation_1-merror:0.463787\n",
            "[158]\tvalidation_0-merror:0.431085\tvalidation_1-merror:0.463868\n",
            "[159]\tvalidation_0-merror:0.430816\tvalidation_1-merror:0.463747\n",
            "[160]\tvalidation_0-merror:0.430833\tvalidation_1-merror:0.463483\n",
            "[161]\tvalidation_0-merror:0.430546\tvalidation_1-merror:0.463483\n",
            "[162]\tvalidation_0-merror:0.430494\tvalidation_1-merror:0.463341\n",
            "[163]\tvalidation_0-merror:0.430329\tvalidation_1-merror:0.463402\n",
            "[164]\tvalidation_0-merror:0.430155\tvalidation_1-merror:0.463341\n",
            "[165]\tvalidation_0-merror:0.430086\tvalidation_1-merror:0.463321\n",
            "[166]\tvalidation_0-merror:0.429842\tvalidation_1-merror:0.463158\n",
            "[167]\tvalidation_0-merror:0.429686\tvalidation_1-merror:0.463118\n",
            "[168]\tvalidation_0-merror:0.429399\tvalidation_1-merror:0.463463\n",
            "[169]\tvalidation_0-merror:0.429225\tvalidation_1-merror:0.46328\n",
            "[170]\tvalidation_0-merror:0.428947\tvalidation_1-merror:0.463219\n",
            "[171]\tvalidation_0-merror:0.428886\tvalidation_1-merror:0.463483\n",
            "[172]\tvalidation_0-merror:0.428634\tvalidation_1-merror:0.463544\n",
            "[173]\tvalidation_0-merror:0.428486\tvalidation_1-merror:0.463422\n",
            "[174]\tvalidation_0-merror:0.428399\tvalidation_1-merror:0.463381\n",
            "[175]\tvalidation_0-merror:0.428329\tvalidation_1-merror:0.463564\n",
            "[176]\tvalidation_0-merror:0.427955\tvalidation_1-merror:0.463442\n",
            "[177]\tvalidation_0-merror:0.428129\tvalidation_1-merror:0.463158\n",
            "[178]\tvalidation_0-merror:0.427955\tvalidation_1-merror:0.463321\n",
            "[179]\tvalidation_0-merror:0.427938\tvalidation_1-merror:0.462834\n",
            "[180]\tvalidation_0-merror:0.427686\tvalidation_1-merror:0.462732\n",
            "[181]\tvalidation_0-merror:0.42759\tvalidation_1-merror:0.462651\n",
            "[182]\tvalidation_0-merror:0.427286\tvalidation_1-merror:0.46259\n",
            "[183]\tvalidation_0-merror:0.427068\tvalidation_1-merror:0.46257\n",
            "[184]\tvalidation_0-merror:0.426842\tvalidation_1-merror:0.46257\n",
            "[185]\tvalidation_0-merror:0.426834\tvalidation_1-merror:0.462874\n",
            "[186]\tvalidation_0-merror:0.426495\tvalidation_1-merror:0.462692\n",
            "[187]\tvalidation_0-merror:0.426329\tvalidation_1-merror:0.46259\n",
            "[188]\tvalidation_0-merror:0.426156\tvalidation_1-merror:0.46255\n",
            "[189]\tvalidation_0-merror:0.425808\tvalidation_1-merror:0.46257\n",
            "[190]\tvalidation_0-merror:0.425747\tvalidation_1-merror:0.46259\n",
            "[191]\tvalidation_0-merror:0.425703\tvalidation_1-merror:0.462408\n",
            "[192]\tvalidation_0-merror:0.425538\tvalidation_1-merror:0.462286\n",
            "[193]\tvalidation_0-merror:0.425477\tvalidation_1-merror:0.462266\n",
            "[194]\tvalidation_0-merror:0.425382\tvalidation_1-merror:0.462266\n",
            "[195]\tvalidation_0-merror:0.425173\tvalidation_1-merror:0.462002\n",
            "[196]\tvalidation_0-merror:0.42479\tvalidation_1-merror:0.462022\n",
            "[197]\tvalidation_0-merror:0.424669\tvalidation_1-merror:0.462144\n",
            "[198]\tvalidation_0-merror:0.424477\tvalidation_1-merror:0.462205\n",
            "[199]\tvalidation_0-merror:0.42446\tvalidation_1-merror:0.461901\n",
            "[200]\tvalidation_0-merror:0.424382\tvalidation_1-merror:0.46184\n",
            "[201]\tvalidation_0-merror:0.424277\tvalidation_1-merror:0.46184\n",
            "[202]\tvalidation_0-merror:0.42413\tvalidation_1-merror:0.461616\n",
            "[203]\tvalidation_0-merror:0.423956\tvalidation_1-merror:0.461535\n",
            "[204]\tvalidation_0-merror:0.423756\tvalidation_1-merror:0.461353\n",
            "[205]\tvalidation_0-merror:0.423721\tvalidation_1-merror:0.461373\n",
            "[206]\tvalidation_0-merror:0.423599\tvalidation_1-merror:0.461779\n",
            "[207]\tvalidation_0-merror:0.423373\tvalidation_1-merror:0.461677\n",
            "[208]\tvalidation_0-merror:0.423147\tvalidation_1-merror:0.461474\n",
            "[209]\tvalidation_0-merror:0.423251\tvalidation_1-merror:0.461495\n",
            "[210]\tvalidation_0-merror:0.422973\tvalidation_1-merror:0.461373\n",
            "[211]\tvalidation_0-merror:0.422843\tvalidation_1-merror:0.461576\n",
            "[212]\tvalidation_0-merror:0.422834\tvalidation_1-merror:0.461799\n",
            "[213]\tvalidation_0-merror:0.422782\tvalidation_1-merror:0.461921\n",
            "[214]\tvalidation_0-merror:0.422652\tvalidation_1-merror:0.461637\n",
            "[215]\tvalidation_0-merror:0.422686\tvalidation_1-merror:0.461616\n",
            "[216]\tvalidation_0-merror:0.422556\tvalidation_1-merror:0.461454\n",
            "[217]\tvalidation_0-merror:0.422478\tvalidation_1-merror:0.461454\n",
            "[218]\tvalidation_0-merror:0.422539\tvalidation_1-merror:0.461556\n",
            "[219]\tvalidation_0-merror:0.42246\tvalidation_1-merror:0.461495\n",
            "[220]\tvalidation_0-merror:0.422539\tvalidation_1-merror:0.461373\n",
            "[221]\tvalidation_0-merror:0.422269\tvalidation_1-merror:0.461353\n",
            "[222]\tvalidation_0-merror:0.422069\tvalidation_1-merror:0.461231\n",
            "[223]\tvalidation_0-merror:0.422086\tvalidation_1-merror:0.461211\n",
            "[224]\tvalidation_0-merror:0.422026\tvalidation_1-merror:0.461211\n",
            "[225]\tvalidation_0-merror:0.421886\tvalidation_1-merror:0.461312\n",
            "[226]\tvalidation_0-merror:0.421695\tvalidation_1-merror:0.461211\n",
            "[227]\tvalidation_0-merror:0.421513\tvalidation_1-merror:0.46119\n",
            "[228]\tvalidation_0-merror:0.421234\tvalidation_1-merror:0.460988\n",
            "[229]\tvalidation_0-merror:0.420921\tvalidation_1-merror:0.460988\n",
            "[230]\tvalidation_0-merror:0.420808\tvalidation_1-merror:0.461028\n",
            "[231]\tvalidation_0-merror:0.420721\tvalidation_1-merror:0.461048\n",
            "[232]\tvalidation_0-merror:0.420608\tvalidation_1-merror:0.460825\n",
            "[233]\tvalidation_0-merror:0.420547\tvalidation_1-merror:0.461008\n",
            "[234]\tvalidation_0-merror:0.420313\tvalidation_1-merror:0.461028\n",
            "[235]\tvalidation_0-merror:0.420252\tvalidation_1-merror:0.460846\n",
            "[236]\tvalidation_0-merror:0.420026\tvalidation_1-merror:0.460744\n",
            "[237]\tvalidation_0-merror:0.419913\tvalidation_1-merror:0.460764\n",
            "[238]\tvalidation_0-merror:0.419713\tvalidation_1-merror:0.460683\n",
            "[239]\tvalidation_0-merror:0.419652\tvalidation_1-merror:0.460643\n",
            "[240]\tvalidation_0-merror:0.4196\tvalidation_1-merror:0.460622\n",
            "[241]\tvalidation_0-merror:0.419339\tvalidation_1-merror:0.460744\n",
            "[242]\tvalidation_0-merror:0.419165\tvalidation_1-merror:0.460622\n",
            "[243]\tvalidation_0-merror:0.419035\tvalidation_1-merror:0.46048\n",
            "[244]\tvalidation_0-merror:0.418869\tvalidation_1-merror:0.460643\n",
            "[245]\tvalidation_0-merror:0.418913\tvalidation_1-merror:0.460724\n",
            "[246]\tvalidation_0-merror:0.418635\tvalidation_1-merror:0.460886\n",
            "[247]\tvalidation_0-merror:0.418382\tvalidation_1-merror:0.460785\n",
            "[248]\tvalidation_0-merror:0.418269\tvalidation_1-merror:0.460805\n",
            "[249]\tvalidation_0-merror:0.418252\tvalidation_1-merror:0.460582\n",
            "[250]\tvalidation_0-merror:0.41833\tvalidation_1-merror:0.460359\n",
            "[251]\tvalidation_0-merror:0.418078\tvalidation_1-merror:0.460318\n",
            "[252]\tvalidation_0-merror:0.418087\tvalidation_1-merror:0.46044\n",
            "[253]\tvalidation_0-merror:0.417913\tvalidation_1-merror:0.460237\n",
            "[254]\tvalidation_0-merror:0.417782\tvalidation_1-merror:0.460541\n",
            "[255]\tvalidation_0-merror:0.417835\tvalidation_1-merror:0.460683\n",
            "[256]\tvalidation_0-merror:0.417652\tvalidation_1-merror:0.460359\n",
            "[257]\tvalidation_0-merror:0.417661\tvalidation_1-merror:0.460156\n",
            "[258]\tvalidation_0-merror:0.417635\tvalidation_1-merror:0.460359\n",
            "[259]\tvalidation_0-merror:0.417461\tvalidation_1-merror:0.460196\n",
            "[260]\tvalidation_0-merror:0.417269\tvalidation_1-merror:0.460318\n",
            "[261]\tvalidation_0-merror:0.41707\tvalidation_1-merror:0.460257\n",
            "[262]\tvalidation_0-merror:0.417156\tvalidation_1-merror:0.460318\n",
            "[263]\tvalidation_0-merror:0.417122\tvalidation_1-merror:0.460136\n",
            "[264]\tvalidation_0-merror:0.417122\tvalidation_1-merror:0.460034\n",
            "[265]\tvalidation_0-merror:0.416843\tvalidation_1-merror:0.460156\n",
            "[266]\tvalidation_0-merror:0.416765\tvalidation_1-merror:0.460075\n",
            "[267]\tvalidation_0-merror:0.416539\tvalidation_1-merror:0.460196\n",
            "[268]\tvalidation_0-merror:0.41647\tvalidation_1-merror:0.460176\n",
            "[269]\tvalidation_0-merror:0.416357\tvalidation_1-merror:0.460521\n",
            "[270]\tvalidation_0-merror:0.416113\tvalidation_1-merror:0.460541\n",
            "[271]\tvalidation_0-merror:0.415904\tvalidation_1-merror:0.460683\n",
            "[272]\tvalidation_0-merror:0.415809\tvalidation_1-merror:0.460704\n",
            "[273]\tvalidation_0-merror:0.415748\tvalidation_1-merror:0.460683\n",
            "[274]\tvalidation_0-merror:0.415687\tvalidation_1-merror:0.460663\n",
            "[275]\tvalidation_0-merror:0.415478\tvalidation_1-merror:0.460663\n",
            "[276]\tvalidation_0-merror:0.415278\tvalidation_1-merror:0.460886\n",
            "[277]\tvalidation_0-merror:0.415113\tvalidation_1-merror:0.460866\n",
            "[278]\tvalidation_0-merror:0.415096\tvalidation_1-merror:0.460683\n",
            "[279]\tvalidation_0-merror:0.415018\tvalidation_1-merror:0.46044\n",
            "[280]\tvalidation_0-merror:0.414905\tvalidation_1-merror:0.460582\n",
            "[281]\tvalidation_0-merror:0.414905\tvalidation_1-merror:0.460622\n",
            "[282]\tvalidation_0-merror:0.414618\tvalidation_1-merror:0.460663\n",
            "[283]\tvalidation_0-merror:0.414757\tvalidation_1-merror:0.460501\n",
            "[284]\tvalidation_0-merror:0.414705\tvalidation_1-merror:0.460379\n",
            "[285]\tvalidation_0-merror:0.414644\tvalidation_1-merror:0.46042\n",
            "[286]\tvalidation_0-merror:0.414539\tvalidation_1-merror:0.460237\n",
            "[287]\tvalidation_0-merror:0.414574\tvalidation_1-merror:0.460257\n",
            "[288]\tvalidation_0-merror:0.414522\tvalidation_1-merror:0.460257\n",
            "[289]\tvalidation_0-merror:0.414331\tvalidation_1-merror:0.46042\n",
            "[290]\tvalidation_0-merror:0.414392\tvalidation_1-merror:0.460541\n",
            "[291]\tvalidation_0-merror:0.414383\tvalidation_1-merror:0.46044\n",
            "[292]\tvalidation_0-merror:0.414235\tvalidation_1-merror:0.460298\n",
            "[293]\tvalidation_0-merror:0.413965\tvalidation_1-merror:0.460338\n",
            "[294]\tvalidation_0-merror:0.413687\tvalidation_1-merror:0.460196\n",
            "[295]\tvalidation_0-merror:0.413566\tvalidation_1-merror:0.460237\n",
            "[296]\tvalidation_0-merror:0.413592\tvalidation_1-merror:0.460257\n",
            "[297]\tvalidation_0-merror:0.413531\tvalidation_1-merror:0.460176\n",
            "[298]\tvalidation_0-merror:0.413496\tvalidation_1-merror:0.460115\n",
            "[299]\tvalidation_0-merror:0.413331\tvalidation_1-merror:0.460278\n",
            "[300]\tvalidation_0-merror:0.413305\tvalidation_1-merror:0.460156\n",
            "[301]\tvalidation_0-merror:0.413174\tvalidation_1-merror:0.460115\n",
            "[302]\tvalidation_0-merror:0.413122\tvalidation_1-merror:0.460054\n",
            "[303]\tvalidation_0-merror:0.413079\tvalidation_1-merror:0.460136\n",
            "[304]\tvalidation_0-merror:0.413122\tvalidation_1-merror:0.460257\n",
            "[305]\tvalidation_0-merror:0.413166\tvalidation_1-merror:0.460298\n",
            "[306]\tvalidation_0-merror:0.413087\tvalidation_1-merror:0.460278\n",
            "[307]\tvalidation_0-merror:0.41287\tvalidation_1-merror:0.460156\n",
            "[308]\tvalidation_0-merror:0.412835\tvalidation_1-merror:0.460156\n",
            "[309]\tvalidation_0-merror:0.412774\tvalidation_1-merror:0.460196\n",
            "[310]\tvalidation_0-merror:0.412748\tvalidation_1-merror:0.460257\n",
            "[311]\tvalidation_0-merror:0.412513\tvalidation_1-merror:0.460298\n",
            "[312]\tvalidation_0-merror:0.412348\tvalidation_1-merror:0.460034\n",
            "[313]\tvalidation_0-merror:0.412096\tvalidation_1-merror:0.459933\n",
            "[314]\tvalidation_0-merror:0.411922\tvalidation_1-merror:0.459953\n",
            "[315]\tvalidation_0-merror:0.41194\tvalidation_1-merror:0.460176\n",
            "[316]\tvalidation_0-merror:0.411835\tvalidation_1-merror:0.460075\n",
            "[317]\tvalidation_0-merror:0.411522\tvalidation_1-merror:0.460034\n",
            "[318]\tvalidation_0-merror:0.411253\tvalidation_1-merror:0.459933\n",
            "[319]\tvalidation_0-merror:0.411261\tvalidation_1-merror:0.459831\n",
            "[320]\tvalidation_0-merror:0.411174\tvalidation_1-merror:0.459973\n",
            "[321]\tvalidation_0-merror:0.411114\tvalidation_1-merror:0.460075\n",
            "[322]\tvalidation_0-merror:0.411088\tvalidation_1-merror:0.460075\n",
            "[323]\tvalidation_0-merror:0.410957\tvalidation_1-merror:0.460115\n",
            "[324]\tvalidation_0-merror:0.410748\tvalidation_1-merror:0.460136\n",
            "[325]\tvalidation_0-merror:0.410705\tvalidation_1-merror:0.460054\n",
            "[326]\tvalidation_0-merror:0.41054\tvalidation_1-merror:0.459994\n",
            "[327]\tvalidation_0-merror:0.410444\tvalidation_1-merror:0.460075\n",
            "[328]\tvalidation_0-merror:0.410235\tvalidation_1-merror:0.460014\n",
            "[329]\tvalidation_0-merror:0.410244\tvalidation_1-merror:0.460034\n",
            "[330]\tvalidation_0-merror:0.41027\tvalidation_1-merror:0.459933\n",
            "[331]\tvalidation_0-merror:0.41027\tvalidation_1-merror:0.459852\n",
            "[332]\tvalidation_0-merror:0.410288\tvalidation_1-merror:0.459912\n",
            "[333]\tvalidation_0-merror:0.410062\tvalidation_1-merror:0.459872\n",
            "[334]\tvalidation_0-merror:0.410001\tvalidation_1-merror:0.459791\n",
            "[335]\tvalidation_0-merror:0.409931\tvalidation_1-merror:0.459831\n",
            "[336]\tvalidation_0-merror:0.409888\tvalidation_1-merror:0.459709\n",
            "[337]\tvalidation_0-merror:0.409575\tvalidation_1-merror:0.459852\n",
            "[338]\tvalidation_0-merror:0.409549\tvalidation_1-merror:0.459791\n",
            "[339]\tvalidation_0-merror:0.409557\tvalidation_1-merror:0.45975\n",
            "[340]\tvalidation_0-merror:0.409453\tvalidation_1-merror:0.459669\n",
            "[341]\tvalidation_0-merror:0.409192\tvalidation_1-merror:0.45975\n",
            "[342]\tvalidation_0-merror:0.409001\tvalidation_1-merror:0.459628\n",
            "[343]\tvalidation_0-merror:0.408896\tvalidation_1-merror:0.459547\n",
            "[344]\tvalidation_0-merror:0.408896\tvalidation_1-merror:0.459608\n",
            "[345]\tvalidation_0-merror:0.408757\tvalidation_1-merror:0.459527\n",
            "[346]\tvalidation_0-merror:0.408818\tvalidation_1-merror:0.459486\n",
            "[347]\tvalidation_0-merror:0.408644\tvalidation_1-merror:0.459547\n",
            "[348]\tvalidation_0-merror:0.408444\tvalidation_1-merror:0.459507\n",
            "[349]\tvalidation_0-merror:0.408375\tvalidation_1-merror:0.459527\n",
            "[350]\tvalidation_0-merror:0.408227\tvalidation_1-merror:0.459304\n",
            "[351]\tvalidation_0-merror:0.408175\tvalidation_1-merror:0.459263\n",
            "[352]\tvalidation_0-merror:0.408088\tvalidation_1-merror:0.459182\n",
            "[353]\tvalidation_0-merror:0.408018\tvalidation_1-merror:0.459162\n",
            "[354]\tvalidation_0-merror:0.407723\tvalidation_1-merror:0.459446\n",
            "[355]\tvalidation_0-merror:0.407653\tvalidation_1-merror:0.459567\n",
            "[356]\tvalidation_0-merror:0.407479\tvalidation_1-merror:0.459486\n",
            "[357]\tvalidation_0-merror:0.407331\tvalidation_1-merror:0.459567\n",
            "[358]\tvalidation_0-merror:0.407323\tvalidation_1-merror:0.45975\n",
            "[359]\tvalidation_0-merror:0.407244\tvalidation_1-merror:0.459669\n",
            "[360]\tvalidation_0-merror:0.407227\tvalidation_1-merror:0.45977\n",
            "[361]\tvalidation_0-merror:0.406958\tvalidation_1-merror:0.459872\n",
            "[362]\tvalidation_0-merror:0.406853\tvalidation_1-merror:0.45973\n",
            "[363]\tvalidation_0-merror:0.406792\tvalidation_1-merror:0.459689\n",
            "[364]\tvalidation_0-merror:0.406653\tvalidation_1-merror:0.459628\n",
            "[365]\tvalidation_0-merror:0.406549\tvalidation_1-merror:0.459507\n",
            "[366]\tvalidation_0-merror:0.406488\tvalidation_1-merror:0.459507\n",
            "[367]\tvalidation_0-merror:0.406462\tvalidation_1-merror:0.459567\n",
            "[368]\tvalidation_0-merror:0.406262\tvalidation_1-merror:0.459547\n",
            "[369]\tvalidation_0-merror:0.406288\tvalidation_1-merror:0.459263\n",
            "[370]\tvalidation_0-merror:0.406236\tvalidation_1-merror:0.459324\n",
            "[371]\tvalidation_0-merror:0.406018\tvalidation_1-merror:0.459304\n",
            "[372]\tvalidation_0-merror:0.405975\tvalidation_1-merror:0.459344\n",
            "[373]\tvalidation_0-merror:0.405966\tvalidation_1-merror:0.459365\n",
            "[374]\tvalidation_0-merror:0.40581\tvalidation_1-merror:0.459081\n",
            "[375]\tvalidation_0-merror:0.405679\tvalidation_1-merror:0.45906\n",
            "[376]\tvalidation_0-merror:0.405601\tvalidation_1-merror:0.459162\n",
            "[377]\tvalidation_0-merror:0.40541\tvalidation_1-merror:0.458939\n",
            "[378]\tvalidation_0-merror:0.405297\tvalidation_1-merror:0.458999\n",
            "[379]\tvalidation_0-merror:0.405219\tvalidation_1-merror:0.459081\n",
            "[380]\tvalidation_0-merror:0.405106\tvalidation_1-merror:0.459101\n",
            "[381]\tvalidation_0-merror:0.405114\tvalidation_1-merror:0.459243\n",
            "[382]\tvalidation_0-merror:0.404984\tvalidation_1-merror:0.459243\n",
            "[383]\tvalidation_0-merror:0.405045\tvalidation_1-merror:0.459182\n",
            "[384]\tvalidation_0-merror:0.404793\tvalidation_1-merror:0.459344\n",
            "[385]\tvalidation_0-merror:0.40474\tvalidation_1-merror:0.459324\n",
            "[386]\tvalidation_0-merror:0.404688\tvalidation_1-merror:0.459202\n",
            "[387]\tvalidation_0-merror:0.404653\tvalidation_1-merror:0.459202\n",
            "[388]\tvalidation_0-merror:0.404401\tvalidation_1-merror:0.459162\n",
            "[389]\tvalidation_0-merror:0.404323\tvalidation_1-merror:0.459243\n",
            "[390]\tvalidation_0-merror:0.404262\tvalidation_1-merror:0.459162\n",
            "[391]\tvalidation_0-merror:0.404193\tvalidation_1-merror:0.459101\n",
            "[392]\tvalidation_0-merror:0.403975\tvalidation_1-merror:0.459182\n",
            "[393]\tvalidation_0-merror:0.403897\tvalidation_1-merror:0.459283\n",
            "[394]\tvalidation_0-merror:0.403801\tvalidation_1-merror:0.459283\n",
            "[395]\tvalidation_0-merror:0.403775\tvalidation_1-merror:0.459405\n",
            "[396]\tvalidation_0-merror:0.403619\tvalidation_1-merror:0.459405\n",
            "[397]\tvalidation_0-merror:0.403575\tvalidation_1-merror:0.459507\n",
            "[398]\tvalidation_0-merror:0.403445\tvalidation_1-merror:0.459527\n",
            "[399]\tvalidation_0-merror:0.403288\tvalidation_1-merror:0.459365\n",
            "[400]\tvalidation_0-merror:0.403314\tvalidation_1-merror:0.459182\n",
            "[401]\tvalidation_0-merror:0.403323\tvalidation_1-merror:0.459283\n",
            "[402]\tvalidation_0-merror:0.403175\tvalidation_1-merror:0.459121\n",
            "[403]\tvalidation_0-merror:0.403088\tvalidation_1-merror:0.459141\n",
            "[404]\tvalidation_0-merror:0.402906\tvalidation_1-merror:0.458939\n",
            "[405]\tvalidation_0-merror:0.402723\tvalidation_1-merror:0.45904\n",
            "[406]\tvalidation_0-merror:0.402688\tvalidation_1-merror:0.459202\n",
            "[407]\tvalidation_0-merror:0.402619\tvalidation_1-merror:0.45902\n",
            "[408]\tvalidation_0-merror:0.402497\tvalidation_1-merror:0.458655\n",
            "[409]\tvalidation_0-merror:0.402384\tvalidation_1-merror:0.458634\n",
            "[410]\tvalidation_0-merror:0.402202\tvalidation_1-merror:0.458817\n",
            "[411]\tvalidation_0-merror:0.40208\tvalidation_1-merror:0.458736\n",
            "[412]\tvalidation_0-merror:0.40201\tvalidation_1-merror:0.458736\n",
            "[413]\tvalidation_0-merror:0.401836\tvalidation_1-merror:0.458817\n",
            "[414]\tvalidation_0-merror:0.401706\tvalidation_1-merror:0.458878\n",
            "[415]\tvalidation_0-merror:0.401784\tvalidation_1-merror:0.458878\n",
            "[416]\tvalidation_0-merror:0.401689\tvalidation_1-merror:0.458939\n",
            "[417]\tvalidation_0-merror:0.401584\tvalidation_1-merror:0.458878\n",
            "[418]\tvalidation_0-merror:0.401462\tvalidation_1-merror:0.458857\n",
            "[419]\tvalidation_0-merror:0.401471\tvalidation_1-merror:0.458756\n",
            "[420]\tvalidation_0-merror:0.401384\tvalidation_1-merror:0.458675\n",
            "[421]\tvalidation_0-merror:0.401332\tvalidation_1-merror:0.458857\n",
            "[422]\tvalidation_0-merror:0.401297\tvalidation_1-merror:0.458918\n",
            "[423]\tvalidation_0-merror:0.401141\tvalidation_1-merror:0.458857\n",
            "[424]\tvalidation_0-merror:0.40101\tvalidation_1-merror:0.458878\n",
            "[425]\tvalidation_0-merror:0.400915\tvalidation_1-merror:0.458939\n",
            "[426]\tvalidation_0-merror:0.400897\tvalidation_1-merror:0.458939\n",
            "[427]\tvalidation_0-merror:0.400863\tvalidation_1-merror:0.458959\n",
            "[428]\tvalidation_0-merror:0.400663\tvalidation_1-merror:0.459141\n",
            "[429]\tvalidation_0-merror:0.400506\tvalidation_1-merror:0.459223\n",
            "[430]\tvalidation_0-merror:0.400315\tvalidation_1-merror:0.459243\n",
            "[431]\tvalidation_0-merror:0.400315\tvalidation_1-merror:0.459162\n",
            "[432]\tvalidation_0-merror:0.400289\tvalidation_1-merror:0.458999\n",
            "[433]\tvalidation_0-merror:0.40028\tvalidation_1-merror:0.458959\n",
            "[434]\tvalidation_0-merror:0.400219\tvalidation_1-merror:0.458878\n",
            "[435]\tvalidation_0-merror:0.400115\tvalidation_1-merror:0.45902\n",
            "[436]\tvalidation_0-merror:0.400028\tvalidation_1-merror:0.458999\n",
            "[437]\tvalidation_0-merror:0.399993\tvalidation_1-merror:0.458918\n",
            "[438]\tvalidation_0-merror:0.399958\tvalidation_1-merror:0.45902\n",
            "[439]\tvalidation_0-merror:0.399915\tvalidation_1-merror:0.458898\n",
            "[440]\tvalidation_0-merror:0.399871\tvalidation_1-merror:0.458999\n",
            "[441]\tvalidation_0-merror:0.399837\tvalidation_1-merror:0.458999\n",
            "[442]\tvalidation_0-merror:0.399715\tvalidation_1-merror:0.459141\n",
            "[443]\tvalidation_0-merror:0.399524\tvalidation_1-merror:0.459101\n",
            "[444]\tvalidation_0-merror:0.399254\tvalidation_1-merror:0.45906\n",
            "[445]\tvalidation_0-merror:0.399124\tvalidation_1-merror:0.459283\n",
            "[446]\tvalidation_0-merror:0.399124\tvalidation_1-merror:0.459324\n",
            "[447]\tvalidation_0-merror:0.398993\tvalidation_1-merror:0.459344\n",
            "[448]\tvalidation_0-merror:0.398706\tvalidation_1-merror:0.459283\n",
            "[449]\tvalidation_0-merror:0.39855\tvalidation_1-merror:0.459243\n",
            "[450]\tvalidation_0-merror:0.398411\tvalidation_1-merror:0.459263\n",
            "[451]\tvalidation_0-merror:0.398376\tvalidation_1-merror:0.459283\n",
            "[452]\tvalidation_0-merror:0.398341\tvalidation_1-merror:0.459202\n",
            "[453]\tvalidation_0-merror:0.398298\tvalidation_1-merror:0.459141\n",
            "[454]\tvalidation_0-merror:0.398132\tvalidation_1-merror:0.45906\n",
            "[455]\tvalidation_0-merror:0.398158\tvalidation_1-merror:0.458878\n",
            "[456]\tvalidation_0-merror:0.398158\tvalidation_1-merror:0.458939\n",
            "[457]\tvalidation_0-merror:0.398011\tvalidation_1-merror:0.459121\n",
            "[458]\tvalidation_0-merror:0.397889\tvalidation_1-merror:0.459263\n",
            "[459]\tvalidation_0-merror:0.397758\tvalidation_1-merror:0.459304\n",
            "[460]\tvalidation_0-merror:0.39775\tvalidation_1-merror:0.459243\n",
            "[461]\tvalidation_0-merror:0.397576\tvalidation_1-merror:0.459101\n",
            "[462]\tvalidation_0-merror:0.397593\tvalidation_1-merror:0.459141\n",
            "[463]\tvalidation_0-merror:0.397498\tvalidation_1-merror:0.459263\n",
            "[464]\tvalidation_0-merror:0.397254\tvalidation_1-merror:0.459263\n",
            "[465]\tvalidation_0-merror:0.39728\tvalidation_1-merror:0.459324\n",
            "[466]\tvalidation_0-merror:0.397306\tvalidation_1-merror:0.459182\n",
            "[467]\tvalidation_0-merror:0.397193\tvalidation_1-merror:0.459263\n",
            "[468]\tvalidation_0-merror:0.397132\tvalidation_1-merror:0.459425\n",
            "[469]\tvalidation_0-merror:0.397011\tvalidation_1-merror:0.459304\n",
            "[470]\tvalidation_0-merror:0.396872\tvalidation_1-merror:0.459304\n",
            "[471]\tvalidation_0-merror:0.396802\tvalidation_1-merror:0.459283\n",
            "[472]\tvalidation_0-merror:0.396802\tvalidation_1-merror:0.459263\n",
            "[473]\tvalidation_0-merror:0.396741\tvalidation_1-merror:0.459263\n",
            "[474]\tvalidation_0-merror:0.396619\tvalidation_1-merror:0.459283\n",
            "[475]\tvalidation_0-merror:0.396506\tvalidation_1-merror:0.459223\n",
            "[476]\tvalidation_0-merror:0.396428\tvalidation_1-merror:0.459324\n",
            "[477]\tvalidation_0-merror:0.39628\tvalidation_1-merror:0.459202\n",
            "[478]\tvalidation_0-merror:0.396272\tvalidation_1-merror:0.459101\n",
            "[479]\tvalidation_0-merror:0.396306\tvalidation_1-merror:0.458939\n",
            "[480]\tvalidation_0-merror:0.395933\tvalidation_1-merror:0.458999\n",
            "[481]\tvalidation_0-merror:0.395941\tvalidation_1-merror:0.459121\n",
            "[482]\tvalidation_0-merror:0.39608\tvalidation_1-merror:0.45906\n",
            "[483]\tvalidation_0-merror:0.39602\tvalidation_1-merror:0.458999\n",
            "[484]\tvalidation_0-merror:0.395828\tvalidation_1-merror:0.459081\n",
            "[485]\tvalidation_0-merror:0.395811\tvalidation_1-merror:0.45902\n",
            "[486]\tvalidation_0-merror:0.395733\tvalidation_1-merror:0.458939\n",
            "[487]\tvalidation_0-merror:0.395576\tvalidation_1-merror:0.458817\n",
            "[488]\tvalidation_0-merror:0.395498\tvalidation_1-merror:0.458736\n",
            "[489]\tvalidation_0-merror:0.395463\tvalidation_1-merror:0.458655\n",
            "[490]\tvalidation_0-merror:0.395341\tvalidation_1-merror:0.458695\n",
            "[491]\tvalidation_0-merror:0.395246\tvalidation_1-merror:0.458715\n",
            "[492]\tvalidation_0-merror:0.395289\tvalidation_1-merror:0.458715\n",
            "[493]\tvalidation_0-merror:0.395211\tvalidation_1-merror:0.458797\n",
            "[494]\tvalidation_0-merror:0.395089\tvalidation_1-merror:0.458736\n",
            "[495]\tvalidation_0-merror:0.395098\tvalidation_1-merror:0.458756\n",
            "[496]\tvalidation_0-merror:0.395011\tvalidation_1-merror:0.458939\n",
            "[497]\tvalidation_0-merror:0.394907\tvalidation_1-merror:0.458939\n",
            "[498]\tvalidation_0-merror:0.39475\tvalidation_1-merror:0.458898\n",
            "[499]\tvalidation_0-merror:0.394681\tvalidation_1-merror:0.458918\n",
            "[500]\tvalidation_0-merror:0.394437\tvalidation_1-merror:0.458776\n",
            "[501]\tvalidation_0-merror:0.394376\tvalidation_1-merror:0.458634\n",
            "[502]\tvalidation_0-merror:0.394324\tvalidation_1-merror:0.458513\n",
            "[503]\tvalidation_0-merror:0.394255\tvalidation_1-merror:0.458472\n",
            "[504]\tvalidation_0-merror:0.394011\tvalidation_1-merror:0.458188\n",
            "[505]\tvalidation_0-merror:0.393941\tvalidation_1-merror:0.45833\n",
            "[506]\tvalidation_0-merror:0.393802\tvalidation_1-merror:0.458391\n",
            "[507]\tvalidation_0-merror:0.393663\tvalidation_1-merror:0.458431\n",
            "[508]\tvalidation_0-merror:0.393707\tvalidation_1-merror:0.458452\n",
            "[509]\tvalidation_0-merror:0.393646\tvalidation_1-merror:0.458634\n",
            "[510]\tvalidation_0-merror:0.393507\tvalidation_1-merror:0.458573\n",
            "[511]\tvalidation_0-merror:0.393359\tvalidation_1-merror:0.458594\n",
            "[512]\tvalidation_0-merror:0.39322\tvalidation_1-merror:0.458573\n",
            "[513]\tvalidation_0-merror:0.393142\tvalidation_1-merror:0.458472\n",
            "[514]\tvalidation_0-merror:0.393098\tvalidation_1-merror:0.458229\n",
            "[515]\tvalidation_0-merror:0.392959\tvalidation_1-merror:0.45831\n",
            "[516]\tvalidation_0-merror:0.392776\tvalidation_1-merror:0.45831\n",
            "[517]\tvalidation_0-merror:0.39275\tvalidation_1-merror:0.458289\n",
            "[518]\tvalidation_0-merror:0.392698\tvalidation_1-merror:0.458289\n",
            "[519]\tvalidation_0-merror:0.39255\tvalidation_1-merror:0.45833\n",
            "[520]\tvalidation_0-merror:0.392385\tvalidation_1-merror:0.458147\n",
            "[521]\tvalidation_0-merror:0.392359\tvalidation_1-merror:0.458086\n",
            "[522]\tvalidation_0-merror:0.392255\tvalidation_1-merror:0.458005\n",
            "[523]\tvalidation_0-merror:0.392116\tvalidation_1-merror:0.458046\n",
            "[524]\tvalidation_0-merror:0.392142\tvalidation_1-merror:0.457884\n",
            "[525]\tvalidation_0-merror:0.392037\tvalidation_1-merror:0.457985\n",
            "[526]\tvalidation_0-merror:0.391968\tvalidation_1-merror:0.457884\n",
            "[527]\tvalidation_0-merror:0.391907\tvalidation_1-merror:0.457863\n",
            "[528]\tvalidation_0-merror:0.39182\tvalidation_1-merror:0.457924\n",
            "[529]\tvalidation_0-merror:0.39169\tvalidation_1-merror:0.457863\n",
            "[530]\tvalidation_0-merror:0.391472\tvalidation_1-merror:0.457802\n",
            "[531]\tvalidation_0-merror:0.391524\tvalidation_1-merror:0.457944\n",
            "[532]\tvalidation_0-merror:0.391307\tvalidation_1-merror:0.458066\n",
            "[533]\tvalidation_0-merror:0.391342\tvalidation_1-merror:0.457985\n",
            "[534]\tvalidation_0-merror:0.391264\tvalidation_1-merror:0.457924\n",
            "[535]\tvalidation_0-merror:0.39115\tvalidation_1-merror:0.458005\n",
            "[536]\tvalidation_0-merror:0.390985\tvalidation_1-merror:0.458046\n",
            "[537]\tvalidation_0-merror:0.390855\tvalidation_1-merror:0.458046\n",
            "[538]\tvalidation_0-merror:0.390811\tvalidation_1-merror:0.457965\n",
            "[539]\tvalidation_0-merror:0.390664\tvalidation_1-merror:0.457924\n",
            "[540]\tvalidation_0-merror:0.390577\tvalidation_1-merror:0.457924\n",
            "[541]\tvalidation_0-merror:0.390585\tvalidation_1-merror:0.458046\n",
            "[542]\tvalidation_0-merror:0.390585\tvalidation_1-merror:0.458229\n",
            "[543]\tvalidation_0-merror:0.390542\tvalidation_1-merror:0.458269\n",
            "[544]\tvalidation_0-merror:0.390411\tvalidation_1-merror:0.45831\n",
            "[545]\tvalidation_0-merror:0.39029\tvalidation_1-merror:0.458127\n",
            "[546]\tvalidation_0-merror:0.390324\tvalidation_1-merror:0.458026\n",
            "[547]\tvalidation_0-merror:0.390203\tvalidation_1-merror:0.457924\n",
            "[548]\tvalidation_0-merror:0.390168\tvalidation_1-merror:0.457965\n",
            "[549]\tvalidation_0-merror:0.38989\tvalidation_1-merror:0.457944\n",
            "[550]\tvalidation_0-merror:0.389768\tvalidation_1-merror:0.458127\n",
            "[551]\tvalidation_0-merror:0.389655\tvalidation_1-merror:0.458026\n",
            "[552]\tvalidation_0-merror:0.389629\tvalidation_1-merror:0.458168\n",
            "[553]\tvalidation_0-merror:0.389455\tvalidation_1-merror:0.458168\n",
            "[554]\tvalidation_0-merror:0.389403\tvalidation_1-merror:0.458269\n",
            "[555]\tvalidation_0-merror:0.38929\tvalidation_1-merror:0.458229\n",
            "[556]\tvalidation_0-merror:0.389212\tvalidation_1-merror:0.458391\n",
            "[557]\tvalidation_0-merror:0.389212\tvalidation_1-merror:0.458249\n",
            "[558]\tvalidation_0-merror:0.389203\tvalidation_1-merror:0.458249\n",
            "[559]\tvalidation_0-merror:0.389116\tvalidation_1-merror:0.458086\n",
            "[560]\tvalidation_0-merror:0.389177\tvalidation_1-merror:0.458066\n",
            "[561]\tvalidation_0-merror:0.389012\tvalidation_1-merror:0.458188\n",
            "[562]\tvalidation_0-merror:0.388881\tvalidation_1-merror:0.458188\n",
            "[563]\tvalidation_0-merror:0.388803\tvalidation_1-merror:0.458188\n",
            "[564]\tvalidation_0-merror:0.388786\tvalidation_1-merror:0.458249\n",
            "[565]\tvalidation_0-merror:0.388777\tvalidation_1-merror:0.45833\n",
            "[566]\tvalidation_0-merror:0.388725\tvalidation_1-merror:0.458289\n",
            "[567]\tvalidation_0-merror:0.388725\tvalidation_1-merror:0.458208\n",
            "[568]\tvalidation_0-merror:0.388638\tvalidation_1-merror:0.458249\n",
            "[569]\tvalidation_0-merror:0.388499\tvalidation_1-merror:0.458391\n",
            "[570]\tvalidation_0-merror:0.388333\tvalidation_1-merror:0.458289\n",
            "[571]\tvalidation_0-merror:0.388012\tvalidation_1-merror:0.458431\n",
            "[572]\tvalidation_0-merror:0.387916\tvalidation_1-merror:0.458391\n",
            "[573]\tvalidation_0-merror:0.387951\tvalidation_1-merror:0.458431\n",
            "[574]\tvalidation_0-merror:0.387881\tvalidation_1-merror:0.458289\n",
            "[575]\tvalidation_0-merror:0.387794\tvalidation_1-merror:0.45833\n",
            "[576]\tvalidation_0-merror:0.38756\tvalidation_1-merror:0.458289\n",
            "[577]\tvalidation_0-merror:0.38756\tvalidation_1-merror:0.458371\n",
            "[578]\tvalidation_0-merror:0.38742\tvalidation_1-merror:0.458411\n",
            "[579]\tvalidation_0-merror:0.38722\tvalidation_1-merror:0.458371\n",
            "[580]\tvalidation_0-merror:0.38716\tvalidation_1-merror:0.45833\n",
            "[581]\tvalidation_0-merror:0.387203\tvalidation_1-merror:0.45831\n",
            "[582]\tvalidation_0-merror:0.387107\tvalidation_1-merror:0.458472\n",
            "[583]\tvalidation_0-merror:0.386942\tvalidation_1-merror:0.458594\n",
            "[584]\tvalidation_0-merror:0.386881\tvalidation_1-merror:0.458634\n",
            "[585]\tvalidation_0-merror:0.386812\tvalidation_1-merror:0.458675\n",
            "[586]\tvalidation_0-merror:0.38676\tvalidation_1-merror:0.458695\n",
            "[587]\tvalidation_0-merror:0.386655\tvalidation_1-merror:0.458736\n",
            "[588]\tvalidation_0-merror:0.386481\tvalidation_1-merror:0.458776\n",
            "[589]\tvalidation_0-merror:0.386464\tvalidation_1-merror:0.458675\n",
            "[590]\tvalidation_0-merror:0.386334\tvalidation_1-merror:0.458492\n",
            "[591]\tvalidation_0-merror:0.386177\tvalidation_1-merror:0.458553\n",
            "[592]\tvalidation_0-merror:0.386012\tvalidation_1-merror:0.458573\n",
            "[593]\tvalidation_0-merror:0.385812\tvalidation_1-merror:0.458573\n",
            "[594]\tvalidation_0-merror:0.385777\tvalidation_1-merror:0.458513\n",
            "[595]\tvalidation_0-merror:0.385777\tvalidation_1-merror:0.45835\n",
            "[596]\tvalidation_0-merror:0.385734\tvalidation_1-merror:0.458431\n",
            "[597]\tvalidation_0-merror:0.385621\tvalidation_1-merror:0.458431\n",
            "[598]\tvalidation_0-merror:0.385482\tvalidation_1-merror:0.458472\n",
            "[599]\tvalidation_0-merror:0.385299\tvalidation_1-merror:0.458371\n",
            "[600]\tvalidation_0-merror:0.385186\tvalidation_1-merror:0.45831\n",
            "[601]\tvalidation_0-merror:0.385116\tvalidation_1-merror:0.458289\n",
            "[602]\tvalidation_0-merror:0.38509\tvalidation_1-merror:0.458249\n",
            "[603]\tvalidation_0-merror:0.384986\tvalidation_1-merror:0.45835\n",
            "[604]\tvalidation_0-merror:0.38496\tvalidation_1-merror:0.458391\n",
            "[605]\tvalidation_0-merror:0.384795\tvalidation_1-merror:0.458492\n",
            "[606]\tvalidation_0-merror:0.384838\tvalidation_1-merror:0.458553\n",
            "[607]\tvalidation_0-merror:0.384829\tvalidation_1-merror:0.45835\n",
            "[608]\tvalidation_0-merror:0.384786\tvalidation_1-merror:0.458188\n",
            "[609]\tvalidation_0-merror:0.384734\tvalidation_1-merror:0.458472\n",
            "[610]\tvalidation_0-merror:0.384551\tvalidation_1-merror:0.458553\n",
            "[611]\tvalidation_0-merror:0.384499\tvalidation_1-merror:0.458614\n",
            "[612]\tvalidation_0-merror:0.384412\tvalidation_1-merror:0.458655\n",
            "[613]\tvalidation_0-merror:0.384351\tvalidation_1-merror:0.458594\n",
            "[614]\tvalidation_0-merror:0.384264\tvalidation_1-merror:0.458675\n",
            "[615]\tvalidation_0-merror:0.384221\tvalidation_1-merror:0.458756\n",
            "[616]\tvalidation_0-merror:0.384108\tvalidation_1-merror:0.458918\n",
            "[617]\tvalidation_0-merror:0.384021\tvalidation_1-merror:0.458939\n",
            "[618]\tvalidation_0-merror:0.383969\tvalidation_1-merror:0.458939\n",
            "[619]\tvalidation_0-merror:0.38383\tvalidation_1-merror:0.458878\n",
            "[620]\tvalidation_0-merror:0.383795\tvalidation_1-merror:0.458959\n",
            "[621]\tvalidation_0-merror:0.383621\tvalidation_1-merror:0.458817\n",
            "[622]\tvalidation_0-merror:0.383577\tvalidation_1-merror:0.458634\n",
            "[623]\tvalidation_0-merror:0.383412\tvalidation_1-merror:0.458695\n",
            "[624]\tvalidation_0-merror:0.38336\tvalidation_1-merror:0.458857\n",
            "[625]\tvalidation_0-merror:0.383264\tvalidation_1-merror:0.458715\n",
            "[626]\tvalidation_0-merror:0.383221\tvalidation_1-merror:0.458736\n",
            "[627]\tvalidation_0-merror:0.383099\tvalidation_1-merror:0.458736\n",
            "[628]\tvalidation_0-merror:0.383047\tvalidation_1-merror:0.458898\n",
            "[629]\tvalidation_0-merror:0.382934\tvalidation_1-merror:0.458898\n",
            "[630]\tvalidation_0-merror:0.382856\tvalidation_1-merror:0.458918\n",
            "Stopping. Best iteration:\n",
            "[530]\tvalidation_0-merror:0.391472\tvalidation_1-merror:0.457802\n",
            "\n",
            "564.3903532028198\n"
          ],
          "name": "stdout"
        }
      ]
    },
    {
      "cell_type": "code",
      "metadata": {
        "id": "sATEObvQ0FG0",
        "colab_type": "code",
        "colab": {}
      },
      "source": [
        "\n",
        "# make predictions for test set\n",
        "y_pred = rscvj1.predict(X_test)\n",
        "predictions = [round(value) for value in y_pred]"
      ],
      "execution_count": 0,
      "outputs": []
    },
    {
      "cell_type": "code",
      "metadata": {
        "id": "X_ALwEbqzRCx",
        "colab_type": "code",
        "outputId": "18388054-8bf5-46fb-a5ef-5b2740de98ab",
        "colab": {
          "base_uri": "https://localhost:8080/",
          "height": 34
        }
      },
      "source": [
        "accuracy = accuracy_score(y_test, predictions)\n",
        "print(\"Accuracy: %.2f%%\" % (accuracy * 100.0))"
      ],
      "execution_count": 0,
      "outputs": [
        {
          "output_type": "stream",
          "text": [
            "Accuracy: 54.22%\n"
          ],
          "name": "stdout"
        }
      ]
    },
    {
      "cell_type": "code",
      "metadata": {
        "id": "ODzRYnMXEsYP",
        "colab_type": "code",
        "outputId": "00e0685c-5de7-49f8-c1d9-6d4ac79d8671",
        "colab": {
          "base_uri": "https://localhost:8080/",
          "height": 34
        }
      },
      "source": [
        "from sklearn import metrics\n"
      ],
      "execution_count": 0,
      "outputs": [
        {
          "output_type": "execute_result",
          "data": {
            "text/plain": [
              "0.0001270771026611328"
            ]
          },
          "metadata": {
            "tags": []
          },
          "execution_count": 73
        }
      ]
    },
    {
      "cell_type": "code",
      "metadata": {
        "id": "Yx0Po-UEE4KG",
        "colab_type": "code",
        "outputId": "a4a15b64-a375-4f70-fa2c-1e4a4f54a8c1",
        "colab": {
          "base_uri": "https://localhost:8080/",
          "height": 68
        }
      },
      "source": [
        "print(metrics.confusion_matrix(y_test, predictions))"
      ],
      "execution_count": 0,
      "outputs": [
        {
          "output_type": "stream",
          "text": [
            "[[ 2779  6145  1323]\n",
            " [ 1866 13462  5804]\n",
            " [  459  6969 10485]]\n"
          ],
          "name": "stdout"
        }
      ]
    },
    {
      "cell_type": "code",
      "metadata": {
        "id": "Y8Rzb4Y0FSrH",
        "colab_type": "code",
        "outputId": "633b2114-df92-4723-9525-8c1e8f97ad24",
        "colab": {
          "base_uri": "https://localhost:8080/",
          "height": 187
        }
      },
      "source": [
        "print(metrics.classification_report(y_test, predictions, digits=3))"
      ],
      "execution_count": 0,
      "outputs": [
        {
          "output_type": "stream",
          "text": [
            "              precision    recall  f1-score   support\n",
            "\n",
            "         1.0      0.544     0.271     0.362     10247\n",
            "         2.0      0.507     0.637     0.564     21132\n",
            "         3.0      0.595     0.585     0.590     17913\n",
            "\n",
            "    accuracy                          0.542     49292\n",
            "   macro avg      0.549     0.498     0.506     49292\n",
            "weighted avg      0.547     0.542     0.532     49292\n",
            "\n"
          ],
          "name": "stdout"
        }
      ]
    },
    {
      "cell_type": "code",
      "metadata": {
        "id": "IT6EAfO3FYRW",
        "colab_type": "code",
        "colab": {}
      },
      "source": [
        "pred=rscvj1.predict(test)"
      ],
      "execution_count": 0,
      "outputs": []
    },
    {
      "cell_type": "code",
      "metadata": {
        "id": "mjV6h4bcGQP5",
        "colab_type": "code",
        "outputId": "b983e006-9dc8-4e6c-d5fc-55eec1b5089d",
        "colab": {
          "base_uri": "https://localhost:8080/",
          "height": 34
        }
      },
      "source": [
        "pred=pred.astype(int)\n",
        "pred"
      ],
      "execution_count": 0,
      "outputs": [
        {
          "output_type": "execute_result",
          "data": {
            "text/plain": [
              "array([2, 1, 3, ..., 2, 3, 2])"
            ]
          },
          "metadata": {
            "tags": []
          },
          "execution_count": 67
        }
      ]
    },
    {
      "cell_type": "code",
      "metadata": {
        "id": "NlAjixgtFmt8",
        "colab_type": "code",
        "colab": {}
      },
      "source": [
        "final=pd.DataFrame(columns=['Loan_ID','Interest_Rate'])"
      ],
      "execution_count": 0,
      "outputs": []
    },
    {
      "cell_type": "code",
      "metadata": {
        "id": "FA_0VG-3GM94",
        "colab_type": "code",
        "colab": {}
      },
      "source": [
        "final['Loan_ID']=test_id\n",
        "final['Interest_Rate']=pred"
      ],
      "execution_count": 0,
      "outputs": []
    },
    {
      "cell_type": "code",
      "metadata": {
        "id": "g3625efzGNzp",
        "colab_type": "code",
        "colab": {}
      },
      "source": [
        "final.to_csv('submission5.csv',encoding='utf-8', index=False)"
      ],
      "execution_count": 0,
      "outputs": []
    }
  ]
}